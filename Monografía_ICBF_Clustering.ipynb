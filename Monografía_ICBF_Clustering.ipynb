{
  "cells": [
    {
      "cell_type": "markdown",
      "metadata": {
        "id": "oAyM_GEv5b5n"
      },
      "source": [
        "#1. Librerías y cargue de archivo"
      ]
    },
    {
      "cell_type": "code",
      "execution_count": null,
      "metadata": {
        "colab": {
          "background_save": true,
          "base_uri": "https://localhost:8080/"
        },
        "id": "mqXNiVankafm",
        "outputId": "0832878c-2098-42e7-e755-bc50bd5b907e"
      },
      "outputs": [
        {
          "name": "stdout",
          "output_type": "stream",
          "text": [
            "replicating local resources\n"
          ]
        }
      ],
      "source": [
        "!wget --no-cache -O init.py -q https://raw.githubusercontent.com/UDEA-Esp-Analitica-y-Ciencia-de-Datos/EACD-02-ESTADISTICA/master/init.py\n",
        "import init; init.init(force_download=False); \n",
        "from IPython.display import Image"
      ]
    },
    {
      "cell_type": "code",
      "execution_count": null,
      "metadata": {
        "colab": {
          "base_uri": "https://localhost:8080/",
          "height": 251
        },
        "id": "6ebzhLE9kf9b",
        "outputId": "cfc5dd75-d24f-49de-a563-d2a75bfea476"
      },
      "outputs": [
        {
          "data": {
            "image/png": "[encoded data removed]",
            "text/plain": [
              "<IPython.core.display.Image object>"
            ]
          },
          "execution_count": 2,
          "metadata": {},
          "output_type": "execute_result"
        }
      ],
      "source": [
        "Image(\"local/imgs/udea-datascience.png\")"
      ]
    },
    {
      "cell_type": "code",
      "execution_count": null,
      "metadata": {
        "id": "DtRUKc9Dkyg2"
      },
      "outputs": [],
      "source": [
        "\n",
        "\n",
        "\n",
        "from scipy.stats import pearsonr\n",
        "from sklearn.preprocessing import OrdinalEncoder\n",
        "\n",
        "\n",
        "# Tratamiento de datos\n",
        "# ===========================================================================\n",
        "import numpy as np\n",
        "import pandas as pd\n",
        "# Gráficos\n",
        "# ==============================================================================\n",
        "import matplotlib.pyplot as plt\n",
        "from matplotlib import style\n",
        "import seaborn as sns\n",
        "\n",
        "\n",
        "# Preprocesado y modelado\n",
        "# ==============================================================================\n",
        "from sklearn.cluster import KMeans\n",
        "from sklearn.preprocessing import scale\n",
        "from sklearn import preprocessing\n",
        "\n",
        "from sklearn.decomposition import PCA\n",
        "from sklearn.manifold import TSNE\n",
        "\n",
        "from sklearn.cluster import AgglomerativeClustering\n",
        "from scipy.cluster.hierarchy import dendrogram\n",
        "\n",
        "from sklearn.metrics import silhouette_samples, silhouette_score\n",
        "from sklearn.metrics import pairwise_distances_argmin_min\n",
        "\n",
        "\n",
        "# Librerias adicionales\n",
        "# ==============================================================================\n",
        "from sklearn import metrics\n",
        "from sklearn.metrics import davies_bouldin_score\n",
        "from sklearn.metrics import calinski_harabasz_score\n",
        "from sklearn.decomposition import PCA, IncrementalPCA\n",
        "from scipy.cluster.hierarchy import dendrogram\n",
        "from sklearn.cluster import AgglomerativeClustering\n",
        "\n",
        "# Configuración matplotlib\n",
        "# ============================\n",
        "plt.rcParams['image.cmap'] = \"bwr\"\n",
        "plt.rcParams['savefig.bbox'] = \"tight\"\n",
        "style.use('ggplot') or plt.style.use('ggplot')\n",
        "\n",
        "\n",
        "\n",
        "\n",
        "# Configuración warnings\n",
        "# ==============================================================================\n",
        "import warnings\n",
        "warnings.filterwarnings('ignore')"
      ]
    },
    {
      "cell_type": "code",
      "execution_count": null,
      "metadata": {
        "colab": {
          "base_uri": "https://localhost:8080/",
          "height": 311
        },
        "id": "N3qWijoJk1yx",
        "outputId": "5316d2d9-c522-4ed9-8e08-c3796466a69c"
      },
      "outputs": [
        {
          "ename": "FileNotFoundError",
          "evalue": "ignored",
          "output_type": "error",
          "traceback": [
            "\u001b[0;31m---------------------------------------------------------------------------\u001b[0m",
            "\u001b[0;31mFileNotFoundError\u001b[0m                         Traceback (most recent call last)",
            "\u001b[0;32m<ipython-input-4-2b1773b84784>\u001b[0m in \u001b[0;36m<module>\u001b[0;34m()\u001b[0m\n\u001b[0;32m----> 1\u001b[0;31m \u001b[0mdata\u001b[0m \u001b[0;34m=\u001b[0m \u001b[0mpd\u001b[0m\u001b[0;34m.\u001b[0m\u001b[0mread_excel\u001b[0m\u001b[0;34m(\u001b[0m\u001b[0;34m\"ICBFCUEGeneralPorToma.xlsx\"\u001b[0m\u001b[0;34m,\u001b[0m \u001b[0mna_values\u001b[0m\u001b[0;34m=\u001b[0m\u001b[0;36m0\u001b[0m\u001b[0;34m)\u001b[0m \u001b[0;31m# Read data\u001b[0m\u001b[0;34m\u001b[0m\u001b[0;34m\u001b[0m\u001b[0m\n\u001b[0m",
            "\u001b[0;32m/usr/local/lib/python3.7/dist-packages/pandas/util/_decorators.py\u001b[0m in \u001b[0;36mwrapper\u001b[0;34m(*args, **kwargs)\u001b[0m\n\u001b[1;32m    309\u001b[0m                     \u001b[0mstacklevel\u001b[0m\u001b[0;34m=\u001b[0m\u001b[0mstacklevel\u001b[0m\u001b[0;34m,\u001b[0m\u001b[0;34m\u001b[0m\u001b[0;34m\u001b[0m\u001b[0m\n\u001b[1;32m    310\u001b[0m                 )\n\u001b[0;32m--> 311\u001b[0;31m             \u001b[0;32mreturn\u001b[0m \u001b[0mfunc\u001b[0m\u001b[0;34m(\u001b[0m\u001b[0;34m*\u001b[0m\u001b[0margs\u001b[0m\u001b[0;34m,\u001b[0m \u001b[0;34m**\u001b[0m\u001b[0mkwargs\u001b[0m\u001b[0;34m)\u001b[0m\u001b[0;34m\u001b[0m\u001b[0;34m\u001b[0m\u001b[0m\n\u001b[0m\u001b[1;32m    312\u001b[0m \u001b[0;34m\u001b[0m\u001b[0m\n\u001b[1;32m    313\u001b[0m         \u001b[0;32mreturn\u001b[0m \u001b[0mwrapper\u001b[0m\u001b[0;34m\u001b[0m\u001b[0;34m\u001b[0m\u001b[0m\n",
            "\u001b[0;32m/usr/local/lib/python3.7/dist-packages/pandas/io/excel/_base.py\u001b[0m in \u001b[0;36mread_excel\u001b[0;34m(io, sheet_name, header, names, index_col, usecols, squeeze, dtype, engine, converters, true_values, false_values, skiprows, nrows, na_values, keep_default_na, na_filter, verbose, parse_dates, date_parser, thousands, comment, skipfooter, convert_float, mangle_dupe_cols, storage_options)\u001b[0m\n\u001b[1;32m    362\u001b[0m     \u001b[0;32mif\u001b[0m \u001b[0;32mnot\u001b[0m \u001b[0misinstance\u001b[0m\u001b[0;34m(\u001b[0m\u001b[0mio\u001b[0m\u001b[0;34m,\u001b[0m \u001b[0mExcelFile\u001b[0m\u001b[0;34m)\u001b[0m\u001b[0;34m:\u001b[0m\u001b[0;34m\u001b[0m\u001b[0;34m\u001b[0m\u001b[0m\n\u001b[1;32m    363\u001b[0m         \u001b[0mshould_close\u001b[0m \u001b[0;34m=\u001b[0m \u001b[0;32mTrue\u001b[0m\u001b[0;34m\u001b[0m\u001b[0;34m\u001b[0m\u001b[0m\n\u001b[0;32m--> 364\u001b[0;31m         \u001b[0mio\u001b[0m \u001b[0;34m=\u001b[0m \u001b[0mExcelFile\u001b[0m\u001b[0;34m(\u001b[0m\u001b[0mio\u001b[0m\u001b[0;34m,\u001b[0m \u001b[0mstorage_options\u001b[0m\u001b[0;34m=\u001b[0m\u001b[0mstorage_options\u001b[0m\u001b[0;34m,\u001b[0m \u001b[0mengine\u001b[0m\u001b[0;34m=\u001b[0m\u001b[0mengine\u001b[0m\u001b[0;34m)\u001b[0m\u001b[0;34m\u001b[0m\u001b[0;34m\u001b[0m\u001b[0m\n\u001b[0m\u001b[1;32m    365\u001b[0m     \u001b[0;32melif\u001b[0m \u001b[0mengine\u001b[0m \u001b[0;32mand\u001b[0m \u001b[0mengine\u001b[0m \u001b[0;34m!=\u001b[0m \u001b[0mio\u001b[0m\u001b[0;34m.\u001b[0m\u001b[0mengine\u001b[0m\u001b[0;34m:\u001b[0m\u001b[0;34m\u001b[0m\u001b[0;34m\u001b[0m\u001b[0m\n\u001b[1;32m    366\u001b[0m         raise ValueError(\n",
            "\u001b[0;32m/usr/local/lib/python3.7/dist-packages/pandas/io/excel/_base.py\u001b[0m in \u001b[0;36m__init__\u001b[0;34m(self, path_or_buffer, engine, storage_options)\u001b[0m\n\u001b[1;32m   1190\u001b[0m             \u001b[0;32melse\u001b[0m\u001b[0;34m:\u001b[0m\u001b[0;34m\u001b[0m\u001b[0;34m\u001b[0m\u001b[0m\n\u001b[1;32m   1191\u001b[0m                 ext = inspect_excel_format(\n\u001b[0;32m-> 1192\u001b[0;31m                     \u001b[0mcontent_or_path\u001b[0m\u001b[0;34m=\u001b[0m\u001b[0mpath_or_buffer\u001b[0m\u001b[0;34m,\u001b[0m \u001b[0mstorage_options\u001b[0m\u001b[0;34m=\u001b[0m\u001b[0mstorage_options\u001b[0m\u001b[0;34m\u001b[0m\u001b[0;34m\u001b[0m\u001b[0m\n\u001b[0m\u001b[1;32m   1193\u001b[0m                 )\n\u001b[1;32m   1194\u001b[0m                 \u001b[0;32mif\u001b[0m \u001b[0mext\u001b[0m \u001b[0;32mis\u001b[0m \u001b[0;32mNone\u001b[0m\u001b[0;34m:\u001b[0m\u001b[0;34m\u001b[0m\u001b[0;34m\u001b[0m\u001b[0m\n",
            "\u001b[0;32m/usr/local/lib/python3.7/dist-packages/pandas/io/excel/_base.py\u001b[0m in \u001b[0;36minspect_excel_format\u001b[0;34m(content_or_path, storage_options)\u001b[0m\n\u001b[1;32m   1069\u001b[0m \u001b[0;34m\u001b[0m\u001b[0m\n\u001b[1;32m   1070\u001b[0m     with get_handle(\n\u001b[0;32m-> 1071\u001b[0;31m         \u001b[0mcontent_or_path\u001b[0m\u001b[0;34m,\u001b[0m \u001b[0;34m\"rb\"\u001b[0m\u001b[0;34m,\u001b[0m \u001b[0mstorage_options\u001b[0m\u001b[0;34m=\u001b[0m\u001b[0mstorage_options\u001b[0m\u001b[0;34m,\u001b[0m \u001b[0mis_text\u001b[0m\u001b[0;34m=\u001b[0m\u001b[0;32mFalse\u001b[0m\u001b[0;34m\u001b[0m\u001b[0;34m\u001b[0m\u001b[0m\n\u001b[0m\u001b[1;32m   1072\u001b[0m     ) as handle:\n\u001b[1;32m   1073\u001b[0m         \u001b[0mstream\u001b[0m \u001b[0;34m=\u001b[0m \u001b[0mhandle\u001b[0m\u001b[0;34m.\u001b[0m\u001b[0mhandle\u001b[0m\u001b[0;34m\u001b[0m\u001b[0;34m\u001b[0m\u001b[0m\n",
            "\u001b[0;32m/usr/local/lib/python3.7/dist-packages/pandas/io/common.py\u001b[0m in \u001b[0;36mget_handle\u001b[0;34m(path_or_buf, mode, encoding, compression, memory_map, is_text, errors, storage_options)\u001b[0m\n\u001b[1;32m    709\u001b[0m         \u001b[0;32melse\u001b[0m\u001b[0;34m:\u001b[0m\u001b[0;34m\u001b[0m\u001b[0;34m\u001b[0m\u001b[0m\n\u001b[1;32m    710\u001b[0m             \u001b[0;31m# Binary mode\u001b[0m\u001b[0;34m\u001b[0m\u001b[0;34m\u001b[0m\u001b[0;34m\u001b[0m\u001b[0m\n\u001b[0;32m--> 711\u001b[0;31m             \u001b[0mhandle\u001b[0m \u001b[0;34m=\u001b[0m \u001b[0mopen\u001b[0m\u001b[0;34m(\u001b[0m\u001b[0mhandle\u001b[0m\u001b[0;34m,\u001b[0m \u001b[0mioargs\u001b[0m\u001b[0;34m.\u001b[0m\u001b[0mmode\u001b[0m\u001b[0;34m)\u001b[0m\u001b[0;34m\u001b[0m\u001b[0;34m\u001b[0m\u001b[0m\n\u001b[0m\u001b[1;32m    712\u001b[0m         \u001b[0mhandles\u001b[0m\u001b[0;34m.\u001b[0m\u001b[0mappend\u001b[0m\u001b[0;34m(\u001b[0m\u001b[0mhandle\u001b[0m\u001b[0;34m)\u001b[0m\u001b[0;34m\u001b[0m\u001b[0;34m\u001b[0m\u001b[0m\n\u001b[1;32m    713\u001b[0m \u001b[0;34m\u001b[0m\u001b[0m\n",
            "\u001b[0;31mFileNotFoundError\u001b[0m: [Errno 2] No such file or directory: 'ICBFCUEGeneralPorToma.xlsx'"
          ]
        }
      ],
      "source": [
        "data = pd.read_excel(\"ICBFCUEGeneralPorToma.xlsx\", na_values=0) # Read data\n"
      ]
    },
    {
      "cell_type": "markdown",
      "metadata": {
        "id": "VONwKUFw5s1n"
      },
      "source": [
        "#2. Exploración inicial y limpieza de datos"
      ]
    },
    {
      "cell_type": "markdown",
      "metadata": {
        "id": "ma53xJn58Kbm"
      },
      "source": [
        "## Exploración inicial"
      ]
    },
    {
      "cell_type": "code",
      "execution_count": null,
      "metadata": {
        "id": "2K2tj22Cl_4f"
      },
      "outputs": [],
      "source": [
        "data.info()"
      ]
    },
    {
      "cell_type": "markdown",
      "metadata": {
        "id": "kaUS0lkfsHk5"
      },
      "source": [
        "## Filtración de Columnas sin valor agregado"
      ]
    },
    {
      "cell_type": "code",
      "execution_count": null,
      "metadata": {
        "id": "rr4GzOhKrn5d"
      },
      "outputs": [],
      "source": [
        "dataf = data.drop(data.columns[[0,1,2,3,4,5,6,8,10,11,12,13,14,17,18,19,20,23,27,28,29,30,31,32,33,34,35,36,37,38,39,40,43,44,45,46,47,48,49,50,51,56,59,63,65]], axis='columns')\n",
        "dataf.info()"
      ]
    },
    {
      "cell_type": "code",
      "execution_count": null,
      "metadata": {
        "id": "kesB3-D-Nl1V"
      },
      "outputs": [],
      "source": [
        "dobject = dataf.select_dtypes('object')\n",
        "dobject.head()\n",
        "dobject.info()"
      ]
    },
    {
      "cell_type": "code",
      "execution_count": null,
      "metadata": {
        "id": "YIkiW9AYOOvv"
      },
      "outputs": [],
      "source": [
        "dint64 = dataf.select_dtypes('int64')\n",
        "dint64.head()\n",
        "dint64.info()"
      ]
    },
    {
      "cell_type": "code",
      "execution_count": null,
      "metadata": {
        "id": "zoHMyZ-cO2MK"
      },
      "outputs": [],
      "source": [
        "dfloat64 = dataf.select_dtypes('float64')\n",
        "dfloat64.head()\n",
        "dfloat64.info()"
      ]
    },
    {
      "cell_type": "markdown",
      "metadata": {
        "id": "VDfvm8PZGFnC"
      },
      "source": [
        "CODIFICANDO DATOS CATEGORICOS DE SISBEN\n"
      ]
    },
    {
      "cell_type": "code",
      "execution_count": null,
      "metadata": {
        "id": "zi32XHtEGQZO"
      },
      "outputs": [],
      "source": [
        "dobject.Sisben.value_counts()"
      ]
    },
    {
      "cell_type": "code",
      "execution_count": null,
      "metadata": {
        "id": "ER8TU7Q5HHiq"
      },
      "outputs": [],
      "source": [
        "dobject['Sisben'].count()"
      ]
    },
    {
      "cell_type": "code",
      "execution_count": null,
      "metadata": {
        "id": "d5KQjQz7MttJ"
      },
      "outputs": [],
      "source": [
        "# asignando valor 0 a las variables que tengan NaN\n",
        "df = pd.DataFrame(dataf[\"Sisben\"])\n",
        "df = df.fillna(0)\n",
        "print(df)"
      ]
    },
    {
      "cell_type": "code",
      "execution_count": null,
      "metadata": {
        "id": "1wWZi06mNMvW"
      },
      "outputs": [],
      "source": [
        "df.count()"
      ]
    },
    {
      "cell_type": "markdown",
      "metadata": {
        "id": "7MSphqrZhUj-"
      },
      "source": [
        "## Codificación de Categoría Sisben"
      ]
    },
    {
      "cell_type": "code",
      "execution_count": null,
      "metadata": {
        "id": "oNweReYCJJPA"
      },
      "outputs": [],
      "source": [
        "# Creamos el codificador indicandole el orden de la variables, incluimos el cero para dar inicializacion desde 1\n",
        "encoder = OrdinalEncoder(categories=[[0,\"NO TIENE\",\"A1\", \"A2\", \"A3\",\"A4\",\"A5\", \n",
        "                                      \"B1\", \"B2\", \"B3\", \"B4\", \"B5\", \"B6\", \"B7\", \n",
        "                                      \"C1\",\"C2\",\"C3\",\"C4\",\"C5\",\"C6\",\"C7\",\"C8\",\"C9\",\"C10\",\"C11\",\"C12\",\"C13\",\"C14\",\"C15\",\"C16\",\"C17\",\"C18\",\n",
        "                                      \"D1\",\"D2\",\"D3\",\"D4\",\"D5\",\"D6\",\"D7\",\"D8\",\"D9\",\"D10\",\"D11\",\"D12\",\"D13\",\"D14\",\"D15\",\"D16\",\"D17\",\"D18\",\"D19\",\"D20\",\"D21\",\n",
        "                                      \"A\"]])\n",
        "# desde la pagina del gobierno se bajaron las diferentes clasificaciones que tiene la categorizacion del sisben, en donde:\n",
        "#A= pobreza extrema (comprende a hogares en situación de pobreza  extrema. En este grupo los hogares estarán clasificados en 5 subgrupos, desde A1 hasta A5.)\n",
        "#B= pobreza moderada (corresponde a hogares en condición de pobreza moderada. Este grupo tendrá 7 subgrupos desde el B1 hasta el B7.)\n",
        "#C= Vulnerabilidad (corresponde a hogares en condición de vulnerabilidad. Este grupo tendrá 18 subgrupos desde el C1 hasta el C18. )\n",
        "#D= Ni ´pobre ni vulnerable (comprende hogares que no están en situación de pobreza. Este grupo tendrá 21 subgrupos desde el D1 hasta el D21. )\n",
        "\n",
        "# Ajustamos el codificador con la variable sisben y la transformamos\n",
        "encoder.fit(df[[\"Sisben\"]])\n",
        "df[\"Sisben-encoded\"] = encoder.transform(df[[\"Sisben\"]])\n",
        "dataf[\"Sisben\"]=df[\"Sisben-encoded\"]   # cambiamos en el dataf la columna sisben de datos categoricos por los codificados"
      ]
    },
    {
      "cell_type": "code",
      "execution_count": null,
      "metadata": {
        "id": "EMsKU7qwOZLP"
      },
      "outputs": [],
      "source": [
        "df[[\"Sisben\", \"Sisben-encoded\"]].head(1000)"
      ]
    },
    {
      "cell_type": "code",
      "execution_count": null,
      "metadata": {
        "id": "1ImItKyQPVp1"
      },
      "outputs": [],
      "source": [
        "graf_sisben=df.Sisben.value_counts()\n",
        "graf_sisben"
      ]
    },
    {
      "cell_type": "code",
      "execution_count": null,
      "metadata": {
        "id": "vT1v33oICLTc"
      },
      "outputs": [],
      "source": [
        "# Creaemos una gráfica de barras para observa la densidad poblacional\n",
        "graf_sisben.plot(kind=\"bar\")"
      ]
    },
    {
      "cell_type": "code",
      "execution_count": null,
      "metadata": {
        "id": "Up88pHZ3EeN1"
      },
      "outputs": [],
      "source": [
        "df[\"Sisben-encoded\"].describe()"
      ]
    },
    {
      "cell_type": "code",
      "execution_count": null,
      "metadata": {
        "id": "E4AlOCUH705K"
      },
      "outputs": [],
      "source": [
        ""
      ]
    },
    {
      "cell_type": "markdown",
      "metadata": {
        "id": "uNtdja2R7tVi"
      },
      "source": [
        "3. #Inicio Analisis Clustering"
      ]
    },
    {
      "cell_type": "markdown",
      "metadata": {
        "id": "nDLMcmSF7ySZ"
      },
      "source": [
        "##Obtención de variables Dummies"
      ]
    },
    {
      "cell_type": "code",
      "execution_count": null,
      "metadata": {
        "id": "VR6BYGrm-OTB"
      },
      "outputs": [],
      "source": [
        "dDum= dataf.copy()\n",
        "dDum =pd.get_dummies(dDum, drop_first=1)"
      ]
    },
    {
      "cell_type": "code",
      "execution_count": null,
      "metadata": {
        "id": "33Uj3VQg-QVt"
      },
      "outputs": [],
      "source": [
        "dDum.info()\n"
      ]
    },
    {
      "cell_type": "markdown",
      "metadata": {
        "id": "27MRU7UG8ntR"
      },
      "source": [
        "## Escalamiento de variables"
      ]
    },
    {
      "cell_type": "code",
      "execution_count": null,
      "metadata": {
        "id": "mzXXplMOG_uz"
      },
      "outputs": [],
      "source": [
        "X_scaled = preprocessing.Normalizer().fit_transform(dDum)\n",
        "X_scaled"
      ]
    },
    {
      "cell_type": "markdown",
      "metadata": {
        "id": "jonVLaaQ8uhc"
      },
      "source": [
        "#3. Selección del *K* para método K-Means"
      ]
    },
    {
      "cell_type": "markdown",
      "metadata": {
        "id": "vgtSLCY-9SEy"
      },
      "source": [
        "## Método del codo"
      ]
    },
    {
      "cell_type": "code",
      "execution_count": null,
      "metadata": {
        "id": "DoUclTWJHa5X"
      },
      "outputs": [],
      "source": [
        "inertias = []\n",
        "\n",
        "range_n_clusters=range(2,15)\n",
        "for n_clusters in range_n_clusters:\n",
        "    modelo_kmeans = KMeans(\n",
        "                        n_clusters   = n_clusters, \n",
        "                        #n_init       = 20, \n",
        "                        random_state = 10\n",
        "                    )\n",
        "    modelo_kmeans.fit(X_scaled)\n",
        "    inertias.append(modelo_kmeans.inertia_)\n",
        "    \n",
        "fig, ax = plt.subplots(1, 1, figsize=(6, 4))\n",
        "ax.plot(range_n_clusters, inertias, marker='o')\n",
        "ax.set_title(\"Evolución de la varianza intra-cluster total\")\n",
        "ax.set_xlabel('Número clusters')\n",
        "ax.set_ylabel('Intra-cluster (inertia)');"
      ]
    },
    {
      "cell_type": "markdown",
      "metadata": {
        "id": "nCU44zwp9XEr"
      },
      "source": [
        "## Método Silhouette"
      ]
    },
    {
      "cell_type": "code",
      "execution_count": null,
      "metadata": {
        "id": "Pk88cAOvH8G7"
      },
      "outputs": [],
      "source": [
        "def silhouette_analysis(X, range_n_clusters):\n",
        "    #range_n_clusters = [10, 11, 12, 13, 14, 15, 16, 17, 18, 20, 21]\n",
        "\n",
        "    \n",
        "    for n_clusters in range_n_clusters:\n",
        "        # Create a subplot with 1 row and 2 columns\n",
        "        fig, (ax1) = plt.subplots(1, 1)\n",
        "        fig.set_size_inches(19, 4)\n",
        "\n",
        "        # The 1st subplot is the silhouette plot\n",
        "        # The silhouette coefficient can range from -1, 1 but in this example all\n",
        "        # lie within [-0.1, 1]\n",
        "        ax1.set_xlim([-0.1, 1])\n",
        "        # The (n_clusters+1)*10 is for inserting blank space between silhouette\n",
        "        # plots of individual clusters, to demarcate them clearly.\n",
        "        ax1.set_ylim([0, len(X) + (n_clusters + 1) * 10])\n",
        "\n",
        "        # Initialize the clusterer with n_clusters value and a random generator\n",
        "        # seed of 10 for reproducibility.\n",
        "        clusterer = KMeans(n_clusters=n_clusters, random_state=10)\n",
        "        cluster_labels = clusterer.fit_predict(X)\n",
        "\n",
        "        # The silhouette_score gives the average value for all the samples.\n",
        "        # This gives a perspective into the density and separation of the formed\n",
        "        # clusters\n",
        "        silhouette_avg = silhouette_score(X, cluster_labels)\n",
        "\n",
        "        # Compute the silhouette scores for each sample\n",
        "        sample_silhouette_values = silhouette_samples(X, cluster_labels)\n",
        "\n",
        "        y_lower = 10\n",
        "        for i in range(n_clusters):\n",
        "            # Aggregate the silhouette scores for samples belonging to\n",
        "            # cluster i, and sort them\n",
        "            ith_cluster_silhouette_values = \\\n",
        "                sample_silhouette_values[cluster_labels == i]\n",
        "\n",
        "            ith_cluster_silhouette_values.sort()\n",
        "\n",
        "            size_cluster_i = ith_cluster_silhouette_values.shape[0]\n",
        "            y_upper = y_lower + size_cluster_i\n",
        "\n",
        "            color = plt.cm.nipy_spectral(float(i) / n_clusters)\n",
        "            ax1.fill_betweenx(np.arange(y_lower, y_upper),\n",
        "                              0, ith_cluster_silhouette_values,\n",
        "                              facecolor=color, edgecolor=color, alpha=0.7)\n",
        "\n",
        "            # Label the silhouette plots with their cluster numbers at the middle\n",
        "            ax1.text(-0.05, y_lower + 0.5 * size_cluster_i, str(i))\n",
        "\n",
        "            # Compute the new y_lower for next plot\n",
        "            y_lower = y_upper + 10  # 10 for the 0 samples\n",
        "\n",
        "        ax1.set_title(\"The silhouette plot for the various clusters.\")\n",
        "        ax1.set_xlabel(\"The silhouette coefficient values\")\n",
        "        ax1.set_ylabel(\"Cluster label\")\n",
        "\n",
        "        # The vertical line for average silhouette score of all the values\n",
        "        ax1.axvline(x=silhouette_avg, color=\"red\", linestyle=\"--\")\n",
        "\n",
        "        ax1.set_yticks([])  # Clear the yaxis labels / ticks\n",
        "        ax1.set_xticks([-0.1, 0, 0.2, 0.4, 0.6, 0.8, 1])\n",
        "\n",
        "        plt.suptitle((\"Silhouette analysis for %s clustering on sample data \"\n",
        "                      \"with n_clusters = %d, score = %.3f\" % (clusterer.__class__.__name__, n_clusters,silhouette_avg)),\n",
        "                     fontsize=14, fontweight='bold')"
      ]
    },
    {
      "cell_type": "code",
      "execution_count": null,
      "metadata": {
        "id": "NUaRl4KMJoQu"
      },
      "outputs": [],
      "source": [
        "# Método silhouette para identificar el número óptimo de clusters\n",
        "# ==============================================================================\n",
        "valores_medios_silhouette = []\n",
        "\n",
        "for n_clusters in range_n_clusters:\n",
        "    modelo_kmeans = KMeans(\n",
        "                        n_clusters   = n_clusters, \n",
        "                        #n_init       = 20, \n",
        "                        random_state = 10\n",
        "                    )\n",
        "    cluster_labels = modelo_kmeans.fit_predict(X_scaled)\n",
        "    silhouette_avg = silhouette_score(X_scaled, cluster_labels)\n",
        "    valores_medios_silhouette.append(silhouette_avg)\n",
        "    \n",
        "fig, ax = plt.subplots(1, 1, figsize=(15, 3.84))\n",
        "ax.plot(range_n_clusters, valores_medios_silhouette, marker='o')\n",
        "ax.set_title(\"Evolución de media de los índices silhouette\")\n",
        "ax.set_xlabel('Número clusters')\n",
        "ax.set_ylabel('Media índices silhouette');"
      ]
    },
    {
      "cell_type": "code",
      "execution_count": null,
      "metadata": {
        "id": "jM9Mha2LJ9lc"
      },
      "outputs": [],
      "source": [
        "silhouette_analysis(X_scaled, range_n_clusters)"
      ]
    },
    {
      "cell_type": "markdown",
      "metadata": {
        "id": "TKD05mmc9hXQ"
      },
      "source": [
        "# 4. Creación del modelo con K-Means"
      ]
    },
    {
      "cell_type": "code",
      "execution_count": null,
      "metadata": {
        "id": "FkHg103mMNbr"
      },
      "outputs": [],
      "source": [
        "#Se define el algoritmo junto con el valor de K\n",
        "k=2\n",
        "algoritmo = KMeans(n_clusters = k, init = 'k-means++', max_iter = 300, n_init = 10)\n",
        "\n",
        "#Se entrena el algoritmo\n",
        "algoritmo.fit(X_scaled)"
      ]
    },
    {
      "cell_type": "markdown",
      "metadata": {
        "id": "04JjHfTlFdgn"
      },
      "source": [
        "## Resumen de métricas con K-Means"
      ]
    },
    {
      "cell_type": "code",
      "execution_count": null,
      "metadata": {
        "id": "-AjuywB-Hi3_"
      },
      "outputs": [],
      "source": [
        "nro=[]\n",
        "silueta=[]\n",
        "calinski=[]\n",
        "davies=[]\n",
        "j=2\n",
        "for n_clusters in range_n_clusters:\n",
        "    modelo_kmeans = KMeans(\n",
        "                        n_clusters   = n_clusters, \n",
        "                        #n_init       = 20, \n",
        "                        random_state = 10\n",
        "                    )\n",
        "    cluster_labels = modelo_kmeans.fit_predict(X_scaled)\n",
        "    nro.append(j)\n",
        "    silueta.append(silhouette_score(X_scaled, cluster_labels))\n",
        "    calinski.append(calinski_harabasz_score(X_scaled, cluster_labels))\n",
        "    davies.append(davies_bouldin_score(X_scaled, cluster_labels))\n",
        "    j=j+1"
      ]
    },
    {
      "cell_type": "code",
      "execution_count": null,
      "metadata": {
        "id": "XL6RHD1UI4uk"
      },
      "outputs": [],
      "source": [
        "\n",
        "data = {'# de Clusters': nro, 'Score Silhouette': silueta, 'Score Calinski-Harabasz':calinski, 'Score Davies-Bouldin':davies}\n",
        "metricas_kmeans = pd.DataFrame(data=data)\n"
      ]
    },
    {
      "cell_type": "code",
      "execution_count": null,
      "metadata": {
        "id": "0-PRvlIXGRWh"
      },
      "outputs": [],
      "source": [
        "metricas_kmeans"
      ]
    },
    {
      "cell_type": "markdown",
      "metadata": {
        "id": "1v4S24Iw-rS0"
      },
      "source": [
        "#5. Visualización de clusters"
      ]
    },
    {
      "cell_type": "code",
      "execution_count": null,
      "metadata": {
        "id": "1U5hGtVJBpbQ"
      },
      "outputs": [],
      "source": [
        "#Se obtiene los datos de los centroides y las etiquetas\n",
        "centroides, cluster = algoritmo.cluster_centers_, algoritmo.labels_"
      ]
    },
    {
      "cell_type": "code",
      "execution_count": null,
      "metadata": {
        "id": "vKpQNr4BHDqa"
      },
      "outputs": [],
      "source": [
        "\n"
      ]
    },
    {
      "cell_type": "code",
      "execution_count": null,
      "metadata": {
        "id": "dP43fWsQMR9a"
      },
      "outputs": [],
      "source": [
        "# Obtenemos las etiquetas de cada punto de nuestros datos\n",
        "dClus = dDum.copy()\n",
        "dClus['cluster'] = algoritmo.labels_\n",
        "\n",
        "# Obtenemos los centroids\n",
        "C = algoritmo.cluster_centers_"
      ]
    },
    {
      "cell_type": "code",
      "execution_count": null,
      "metadata": {
        "id": "B6D3BD6RM8fI"
      },
      "outputs": [],
      "source": [
        "dClus.head(10)"
      ]
    },
    {
      "cell_type": "code",
      "execution_count": null,
      "metadata": {
        "id": "CQwRryLlNYDH"
      },
      "outputs": [],
      "source": [
        "dClus.groupby(\"cluster\").count().head()"
      ]
    },
    {
      "cell_type": "code",
      "execution_count": null,
      "metadata": {
        "id": "1Pca3WttNmCZ"
      },
      "outputs": [],
      "source": [
        "dClus.describe()"
      ]
    },
    {
      "cell_type": "code",
      "execution_count": null,
      "metadata": {
        "id": "h16TCyLBNx_P"
      },
      "outputs": [],
      "source": [
        "centroides = pd.DataFrame(data=algoritmo.cluster_centers_, columns =dDum.columns)\n",
        "centroides.head()"
      ]
    },
    {
      "cell_type": "code",
      "execution_count": null,
      "metadata": {
        "id": "mJlDWnI7N9xH"
      },
      "outputs": [],
      "source": [
        "dClus.groupby('cluster').size()"
      ]
    },
    {
      "cell_type": "code",
      "execution_count": null,
      "metadata": {
        "id": "trkwa48tOYLy"
      },
      "outputs": [],
      "source": [
        "dClus[dClus['cluster']==1][:10].sort_values('cluster',ascending=False)"
      ]
    },
    {
      "cell_type": "markdown",
      "metadata": {
        "id": "rBblIxThAw1J"
      },
      "source": [
        "##Gráficos"
      ]
    },
    {
      "cell_type": "code",
      "execution_count": null,
      "metadata": {
        "id": "9XTwbekeOg3i"
      },
      "outputs": [],
      "source": [
        "bar = centroides.T.copy()\n",
        "\n",
        "fig, axes = plt.subplots(nrows=15, ncols=3)\n",
        "axe = axes.flatten()\n",
        "\n",
        "for i,b in enumerate(bar.index):\n",
        "  bar.loc[[b]].plot(kind='bar',figsize=(25,40),sort_columns=True,ax=axe[i],xticks=(()),yticks=(()),title=b)"
      ]
    },
    {
      "cell_type": "code",
      "execution_count": null,
      "metadata": {
        "id": "M1v00V7A8amf"
      },
      "outputs": [],
      "source": [
        "centroides = algoritmo.cluster_centers_\n",
        "etiquetas = algoritmo.labels_"
      ]
    },
    {
      "cell_type": "code",
      "execution_count": null,
      "metadata": {
        "id": "6sBARQpr8dxk"
      },
      "outputs": [],
      "source": [
        "plt.plot(X_scaled[etiquetas==0,0],X_scaled[etiquetas==0,1],'r.', label='Cluster 1')\n",
        "plt.plot(X_scaled[etiquetas==1,0],X_scaled[etiquetas==1,1],'g.', label='Cluster 2')\n",
        "plt.plot(X_scaled[etiquetas==2,0],X_scaled[etiquetas==2,1],'b.', label='Cluster 3')\n",
        "\n",
        "\n",
        "\n",
        "plt.plot(centroides[:,0],centroides[:,1],'mo',markersize=8, label='centroides')\n",
        "\n",
        "plt.legend(loc='best')\n",
        "plt.show()"
      ]
    },
    {
      "cell_type": "markdown",
      "metadata": {
        "id": "evg8dE14FLhI"
      },
      "source": [
        "#6. Creación de modelo con Clustering Jerárquico"
      ]
    },
    {
      "cell_type": "code",
      "execution_count": null,
      "metadata": {
        "id": "0dqj_2B0NosV"
      },
      "outputs": [],
      "source": [
        "modelo_hclust_ward = AgglomerativeClustering(\n",
        "                            affinity = 'euclidean',\n",
        "                            linkage  = 'ward',\n",
        "                            distance_threshold = 0,\n",
        "                            n_clusters         = None\n",
        "                     )\n",
        "modelo_hclust_ward.fit(X=X_scaled)"
      ]
    },
    {
      "cell_type": "code",
      "execution_count": null,
      "metadata": {
        "id": "vhZvqoAYOhS0"
      },
      "outputs": [],
      "source": [
        "def plot_dendrogram(model, **kwargs):\n",
        "    '''\n",
        "    Esta función extrae la información de un modelo AgglomerativeClustering\n",
        "    y representa su dendograma con la función dendogram de scipy.cluster.hierarchy\n",
        "    '''\n",
        "    \n",
        "    counts = np.zeros(model.children_.shape[0])\n",
        "    n_samples = len(model.labels_)\n",
        "    for i, merge in enumerate(model.children_):\n",
        "        current_count = 0\n",
        "        for child_idx in merge:\n",
        "            if child_idx < n_samples:\n",
        "                current_count += 1  # leaf node\n",
        "            else:\n",
        "                current_count += counts[child_idx - n_samples]\n",
        "        counts[i] = current_count\n",
        "\n",
        "    linkage_matrix = np.column_stack([model.children_, model.distances_,\n",
        "                                      counts]).astype(float)\n",
        "\n",
        "    # Plot\n",
        "    dendrogram(linkage_matrix, **kwargs)"
      ]
    },
    {
      "cell_type": "markdown",
      "metadata": {
        "id": "nDoy9-u6OTB9"
      },
      "source": [
        "Dendograma"
      ]
    },
    {
      "cell_type": "code",
      "execution_count": null,
      "metadata": {
        "id": "N7dBYzt1N7fl"
      },
      "outputs": [],
      "source": [
        "fig, ax = plt.subplots(1, 1, figsize=(8, 4))\n",
        "altura_corte = 5.3\n",
        "#altura_corte = 6\n",
        "\n",
        "plot_dendrogram(modelo_hclust_ward, color_threshold=altura_corte, ax=ax)\n",
        "ax.set_title(\"Distancia euclídea, Linkage ward\")\n",
        "ax.axhline(y=altura_corte, c = 'black', linestyle='--', label='altura corte')\n",
        "ax.legend();"
      ]
    },
    {
      "cell_type": "markdown",
      "metadata": {
        "id": "FN-ppsUnOOvP"
      },
      "source": [
        "Método de Silueta"
      ]
    },
    {
      "cell_type": "code",
      "execution_count": null,
      "metadata": {
        "id": "Da2Ip6p5N798"
      },
      "outputs": [],
      "source": [
        "# Método silhouette para identificar el número óptimo de clusters\n",
        "# ==============================================================================\n",
        "range_n_clusters = range(2, 15)\n",
        "valores_medios_silhouette = []\n",
        "\n",
        "for n_clusters in range_n_clusters:\n",
        "    modelo = AgglomerativeClustering(\n",
        "                    affinity   = 'euclidean',\n",
        "                    linkage    = 'ward',\n",
        "                    n_clusters = n_clusters\n",
        "             )\n",
        "\n",
        "    cluster_labels = modelo.fit_predict(X_scaled)\n",
        "    silhouette_avg = silhouette_score(X_scaled, cluster_labels)\n",
        "    valores_medios_silhouette.append(silhouette_avg)\n",
        "    \n",
        "fig, ax = plt.subplots(1, 1, figsize=(6, 3.84))\n",
        "ax.plot(range_n_clusters, valores_medios_silhouette, marker='o')\n",
        "ax.set_title(\"Evolución de media de los índices silhouette\")\n",
        "ax.set_xlabel('Número clusters')\n",
        "ax.set_ylabel('Media índices silhouette');"
      ]
    },
    {
      "cell_type": "markdown",
      "metadata": {
        "id": "_CPsLYKbOMCU"
      },
      "source": [
        "Creación del modelo"
      ]
    },
    {
      "cell_type": "code",
      "execution_count": null,
      "metadata": {
        "id": "JJjg87AkN8Pc"
      },
      "outputs": [],
      "source": [
        "# Modelo\n",
        "# ==============================================================================\n",
        "modelo_hclust_ward = AgglomerativeClustering(\n",
        "                            affinity = 'euclidean',\n",
        "                            linkage  = 'ward',\n",
        "                            n_clusters = 3\n",
        "                     )\n",
        "modelo_hclust_ward.fit(X=X_scaled)"
      ]
    },
    {
      "cell_type": "markdown",
      "metadata": {
        "id": "u36YJ-IHSR79"
      },
      "source": [
        "## Métricas de Clustering Jerárquico"
      ]
    },
    {
      "cell_type": "code",
      "execution_count": null,
      "metadata": {
        "id": "6-w8U4ZwPCtU"
      },
      "outputs": [],
      "source": [
        "nro=[]\n",
        "silueta=[]\n",
        "calinski=[]\n",
        "davies=[]\n",
        "j=2\n",
        "for n_clusters in range_n_clusters:\n",
        "    modelo_hclust_ward = AgglomerativeClustering(\n",
        "                            affinity = 'euclidean',\n",
        "                            linkage  = 'ward',\n",
        "                            n_clusters = n_clusters\n",
        "                     )\n",
        "    cluster_labels = modelo_hclust_ward.fit_predict(X_scaled)\n",
        "    nro.append(j)\n",
        "    silueta.append(silhouette_score(X_scaled, cluster_labels))\n",
        "    calinski.append(calinski_harabasz_score(X_scaled, cluster_labels))\n",
        "    davies.append(davies_bouldin_score(X_scaled, cluster_labels))\n",
        "    j=j+1"
      ]
    },
    {
      "cell_type": "code",
      "execution_count": null,
      "metadata": {
        "id": "-Bc0gKPgO_L6"
      },
      "outputs": [],
      "source": [
        "data = {'# de Clusters': nro, 'Score Silhouette': silueta, 'Score Calinski-Harabasz':calinski, 'Score Davies-Bouldin':davies}\n",
        "metricas_hclust = pd.DataFrame(data=data)\n"
      ]
    },
    {
      "cell_type": "code",
      "execution_count": null,
      "metadata": {
        "id": "5NmpINcnO_L6"
      },
      "outputs": [],
      "source": [
        "metricas_hclust"
      ]
    },
    {
      "cell_type": "markdown",
      "metadata": {
        "id": "lJJD2vvI_eYH"
      },
      "source": [
        "#7. Reducción de dimensionalidad"
      ]
    },
    {
      "cell_type": "markdown",
      "metadata": {
        "id": "_FPMKOF2_vGx"
      },
      "source": [
        "## PCA"
      ]
    },
    {
      "cell_type": "code",
      "execution_count": null,
      "metadata": {
        "id": "Fu0vcK7N_ywb"
      },
      "outputs": [],
      "source": [
        "modelo_pca = PCA(n_components = 2)\n",
        "pca = modelo_pca.fit_transform(X_scaled)\n",
        "\n",
        "\n",
        "#Se aplicar la reducción de dimsensionalidad a los centroides\n",
        "centroides_pca = modelo_pca.transform(centroides)"
      ]
    },
    {
      "cell_type": "code",
      "execution_count": null,
      "metadata": {
        "id": "jcNGzGRW_1A4"
      },
      "outputs": [],
      "source": [
        "#Se asignan los colores a cada clústeres\n",
        "\n",
        "colores = ['blue', 'red', 'green', 'orange', 'gray', 'brown', 'slateblue', 'sprintgreen', 'magenta']\n",
        "\n",
        "\n",
        "colores_cluster = [colores[cluster[i]] for i in range(0,len(pca))]"
      ]
    },
    {
      "cell_type": "code",
      "execution_count": null,
      "metadata": {
        "id": "tzfkOiRS_1Vf"
      },
      "outputs": [],
      "source": [
        "cluster"
      ]
    },
    {
      "cell_type": "code",
      "execution_count": null,
      "metadata": {
        "id": "09Fxa5bz_1oS"
      },
      "outputs": [],
      "source": [
        "pca_data=np.vstack((pca.T, cluster, colores_cluster))\n",
        "pca_df=pd.DataFrame(pca_data.T, columns=['P1', 'P2', 'cluster', 'color'])\n",
        "pca_df.head(20)"
      ]
    },
    {
      "cell_type": "code",
      "execution_count": null,
      "metadata": {
        "id": "MDjIZqw3ACBK"
      },
      "outputs": [],
      "source": [
        "pca"
      ]
    },
    {
      "cell_type": "code",
      "execution_count": null,
      "metadata": {
        "id": "GAJC8V6zACfr"
      },
      "outputs": [],
      "source": [
        "### GRAFICAR LOS DATOS JUNTO A LOS RESULTADOS ###\n",
        "# Se aplica la reducción de dimensionalidad a los datos\n",
        "plt.rcParams['figure.figsize'] = (16,6)\n",
        "j=k-1\n",
        "#Se grafica los componentes PCA\n",
        "plt.scatter(pca[:, 0], pca[:, 1], c = colores_cluster, marker = 'o',alpha = 0.4)\n",
        "\n",
        "#Se grafican los centroides\n",
        "plt.scatter(centroides_pca[:, 0], centroides_pca[:, 1], marker = 'x', s = 100, linewidths = 3, c = colores[0:k])\n",
        "plt.show()"
      ]
    },
    {
      "cell_type": "markdown",
      "metadata": {
        "id": "4eclOsnbRohF"
      },
      "source": [
        "## Métricas de PCA"
      ]
    },
    {
      "cell_type": "code",
      "execution_count": null,
      "metadata": {
        "id": "5gwk37eQXRPV"
      },
      "outputs": [],
      "source": [
        "pca"
      ]
    },
    {
      "cell_type": "code",
      "execution_count": null,
      "metadata": {
        "id": "8ElaKnniLklp"
      },
      "outputs": [],
      "source": [
        "nro=[]\n",
        "silueta=[]\n",
        "calinski=[]\n",
        "davies=[]\n",
        "j=2\n",
        "for n_clusters in range_n_clusters:\n",
        "    modelo_pca = KMeans(\n",
        "                        n_clusters   = n_clusters, \n",
        "                        #n_init       = 20, \n",
        "                        random_state = 10\n",
        "                    )\n",
        "    cluster_labels = modelo_pca.fit_predict(pca_data.T[:,0:2])\n",
        "    nro.append(j)\n",
        "    silueta.append(silhouette_score(pca_data.T[:,0:2], cluster_labels))\n",
        "    calinski.append(calinski_harabasz_score(pca_data.T[:,0:2], cluster_labels))\n",
        "    davies.append(davies_bouldin_score(pca_data.T[:,0:2], cluster_labels))\n",
        "    j=j+1"
      ]
    },
    {
      "cell_type": "code",
      "execution_count": null,
      "metadata": {
        "id": "l3341UOrLklp"
      },
      "outputs": [],
      "source": [
        "\n",
        "data = {'# de Clusters': nro, 'Score Silhouette': silueta, 'Score Calinski-Harabasz':calinski, 'Score Davies-Bouldin':davies}\n",
        "metricas_pca = pd.DataFrame(data=data)\n"
      ]
    },
    {
      "cell_type": "code",
      "execution_count": null,
      "metadata": {
        "id": "VbfwyYAjLklp"
      },
      "outputs": [],
      "source": [
        "metricas_pca"
      ]
    },
    {
      "cell_type": "markdown",
      "metadata": {
        "id": "cWIV1OFbDrMY"
      },
      "source": [
        "## PCA Incremental"
      ]
    },
    {
      "cell_type": "code",
      "execution_count": null,
      "metadata": {
        "id": "dcXsMT57Duiu"
      },
      "outputs": [],
      "source": [
        "modelo_ipca = IncrementalPCA(n_components=2, batch_size=32)\n",
        "ipca = modelo_ipca.fit_transform(X_scaled)"
      ]
    },
    {
      "cell_type": "code",
      "execution_count": null,
      "metadata": {
        "id": "Yv0Wys70Efqe"
      },
      "outputs": [],
      "source": [
        "#Se asignan los colores a cada clústeres\n",
        "\n",
        "colores = ['blue', 'red', 'green', 'orange', 'gray', 'brown', 'slateblue', 'sprintgreen', 'magenta']\n",
        "\n",
        "\n",
        "colores_cluster = [colores[cluster[i]] for i in range(0,len(pca))]"
      ]
    },
    {
      "cell_type": "code",
      "execution_count": null,
      "metadata": {
        "id": "lSZ283dkEKYR"
      },
      "outputs": [],
      "source": [
        "ipca_data=np.vstack((ipca.T, cluster, colores_cluster))\n",
        "ipca_df=pd.DataFrame(ipca_data.T, columns=['P1', 'P2', 'cluster', 'color'])\n",
        "ipca_df.head(20)"
      ]
    },
    {
      "cell_type": "code",
      "execution_count": null,
      "metadata": {
        "id": "w7QufRFHEtSP"
      },
      "outputs": [],
      "source": [
        "### GRAFICAR LOS DATOS JUNTO A LOS RESULTADOS ###\n",
        "# Se aplica la reducción de dimensionalidad a los datos\n",
        "plt.rcParams['figure.figsize'] = (16,6)\n",
        "j=k-1\n",
        "#Se grafica los componentes IPCA\n",
        "plt.scatter(ipca[:, 0], ipca[:, 1], c = colores_cluster, marker = 'o',alpha = 0.4)\n",
        "\n"
      ]
    },
    {
      "cell_type": "markdown",
      "metadata": {
        "id": "Tk_5bHnIRtpr"
      },
      "source": [
        "## Métricas de IPCA"
      ]
    },
    {
      "cell_type": "code",
      "execution_count": null,
      "metadata": {
        "id": "FD91ampuRZ-N"
      },
      "outputs": [],
      "source": [
        "nro=[]\n",
        "silueta=[]\n",
        "calinski=[]\n",
        "davies=[]\n",
        "clases_ipca=[]\n",
        "j=2\n",
        "for n_clusters in range_n_clusters:\n",
        "    modelo_ipca = KMeans(\n",
        "                        n_clusters   = n_clusters, \n",
        "                        #n_init       = 20, \n",
        "                        random_state = 10\n",
        "                    )\n",
        "    cluster_labels = modelo_ipca.fit_predict(ipca_data.T[:,0:2])\n",
        "    clases_ipca.append(cluster_labels)\n",
        "    nro.append(j)\n",
        "    silueta.append(silhouette_score(ipca_data.T[:,0:2], cluster_labels))\n",
        "    calinski.append(calinski_harabasz_score(ipca_data.T[:,0:2], cluster_labels))\n",
        "    davies.append(davies_bouldin_score(ipca_data.T[:,0:2], cluster_labels))\n",
        "    j=j+1"
      ]
    },
    {
      "cell_type": "code",
      "execution_count": null,
      "metadata": {
        "id": "Y6ijiNvKRZ-N"
      },
      "outputs": [],
      "source": [
        "data = {'# de Clusters': nro, 'Score Silhouette': silueta, 'Score Calinski-Harabasz':calinski, 'Score Davies-Bouldin':davies}\n",
        "metricas_ipca = pd.DataFrame(data=data)\n"
      ]
    },
    {
      "cell_type": "code",
      "execution_count": null,
      "metadata": {
        "id": "y0oa5DB-RZ-N"
      },
      "outputs": [],
      "source": [
        "metricas_ipca"
      ]
    },
    {
      "cell_type": "markdown",
      "metadata": {
        "id": "3v6nB9JQa9MK"
      },
      "source": [
        "##t-SNE"
      ]
    },
    {
      "cell_type": "code",
      "execution_count": null,
      "metadata": {
        "id": "iIsZmRxTa6xt"
      },
      "outputs": [],
      "source": [
        "modelo_tsne = TSNE(n_components = 2, perplexity=30, method='exact', random_state=1234)\n",
        "tsne = modelo_tsne.fit_transform(X_scaled)\n",
        "#centroides_tsne = modelo_tsne.transform(centroides)"
      ]
    },
    {
      "cell_type": "code",
      "execution_count": null,
      "metadata": {
        "id": "veAMowcSbCM5"
      },
      "outputs": [],
      "source": [
        "#Se asignan los colores a cada clúster\n",
        "\n",
        "colores = ['blue', 'red', 'green', 'orange', 'gray', 'brown', 'slateblue', 'sprintgreen', 'magenta',  'skyblue']\n",
        "\n",
        "colores_cluster = [colores[cluster[i]] for i in range(0,len(tsne))]"
      ]
    },
    {
      "cell_type": "code",
      "execution_count": null,
      "metadata": {
        "id": "d4UtQcDzbCcI"
      },
      "outputs": [],
      "source": [
        "tsne_data=np.vstack((tsne.T, cluster, colores_cluster))\n",
        "tsne_df=pd.DataFrame(tsne_data.T, columns=['P1', 'P2', 'cluster', 'color'])\n",
        "tsne_df.head(8)"
      ]
    },
    {
      "cell_type": "code",
      "execution_count": null,
      "metadata": {
        "id": "_-Z2tntbbIZs"
      },
      "outputs": [],
      "source": [
        "### GRAFICAR LOS DATOS JUNTO A LOS RESULTADOS ###\n",
        "# Se aplica la reducción de dimensionalidad a los datos\n",
        "plt.rcParams['figure.figsize'] = (16,6)\n",
        "\n",
        "#Se grafica los componentes tSNE\n",
        "plt.scatter(tsne[:, 0], tsne[:, 1], c = colores_cluster, \n",
        "            marker = 'o',alpha = 0.4)"
      ]
    },
    {
      "cell_type": "markdown",
      "metadata": {
        "id": "y74owugCcO7W"
      },
      "source": [
        "##Metricas de t-SNE"
      ]
    },
    {
      "cell_type": "code",
      "execution_count": null,
      "metadata": {
        "colab": {
          "background_save": true
        },
        "id": "0iy8ZhLlcL26"
      },
      "outputs": [],
      "source": [
        "nro=[]\n",
        "silueta=[]\n",
        "calinski=[]\n",
        "davies=[]\n",
        "clases_tsne=[]\n",
        "j=2\n",
        "for n_clusters in range_n_clusters:\n",
        "    modelo_tsne = KMeans(\n",
        "                        n_clusters   = n_clusters, \n",
        "                        #n_init       = 20, \n",
        "                        random_state = 10\n",
        "                    )\n",
        "    cluster_labels = modelo_tsne.fit_predict(tsne_data.T[:,0:2])\n",
        "    clases_tsne.append(cluster_labels)\n",
        "    nro.append(j)\n",
        "    silueta.append(silhouette_score(tsne_data.T[:,0:2], cluster_labels))\n",
        "    calinski.append(calinski_harabasz_score(tsne_data.T[:,0:2], cluster_labels))\n",
        "    davies.append(davies_bouldin_score(tsne_data.T[:,0:2], cluster_labels))\n",
        "    j=j+1"
      ]
    },
    {
      "cell_type": "code",
      "execution_count": null,
      "metadata": {
        "colab": {
          "background_save": true
        },
        "id": "3Tm6oeTScL27"
      },
      "outputs": [],
      "source": [
        "\n",
        "data = {'# de Clusters': nro, 'Score Silhouette': silueta, 'Score Calinski-Harabasz':calinski, 'Score Davies-Bouldin':davies}\n",
        "metricas_tsne = pd.DataFrame(data=data)\n"
      ]
    },
    {
      "cell_type": "code",
      "execution_count": null,
      "metadata": {
        "colab": {
          "background_save": true
        },
        "id": "QWWJK5cpcL27",
        "outputId": "a4fe1bee-b378-48f8-abc4-68fb9cd82d8d"
      },
      "outputs": [
        {
          "data": {
            "text/html": [
              "\n",
              "  <div id=\"df-ab467837-52b3-461c-be77-8bf3f00679db\">\n",
              "    <div class=\"colab-df-container\">\n",
              "      <div>\n",
              "<style scoped>\n",
              "    .dataframe tbody tr th:only-of-type {\n",
              "        vertical-align: middle;\n",
              "    }\n",
              "\n",
              "    .dataframe tbody tr th {\n",
              "        vertical-align: top;\n",
              "    }\n",
              "\n",
              "    .dataframe thead th {\n",
              "        text-align: right;\n",
              "    }\n",
              "</style>\n",
              "<table border=\"1\" class=\"dataframe\">\n",
              "  <thead>\n",
              "    <tr style=\"text-align: right;\">\n",
              "      <th></th>\n",
              "      <th># de Clusters</th>\n",
              "      <th>Score Silhouette</th>\n",
              "      <th>Score Calinski-Harabasz</th>\n",
              "      <th>Score Davies-Bouldin</th>\n",
              "    </tr>\n",
              "  </thead>\n",
              "  <tbody>\n",
              "    <tr>\n",
              "      <th>0</th>\n",
              "      <td>2</td>\n",
              "      <td>0.427076</td>\n",
              "      <td>3240.109402</td>\n",
              "      <td>0.957164</td>\n",
              "    </tr>\n",
              "    <tr>\n",
              "      <th>1</th>\n",
              "      <td>3</td>\n",
              "      <td>0.438608</td>\n",
              "      <td>3891.473542</td>\n",
              "      <td>0.804450</td>\n",
              "    </tr>\n",
              "    <tr>\n",
              "      <th>2</th>\n",
              "      <td>4</td>\n",
              "      <td>0.445198</td>\n",
              "      <td>4136.327121</td>\n",
              "      <td>0.751894</td>\n",
              "    </tr>\n",
              "    <tr>\n",
              "      <th>3</th>\n",
              "      <td>5</td>\n",
              "      <td>0.457785</td>\n",
              "      <td>4926.404576</td>\n",
              "      <td>0.724363</td>\n",
              "    </tr>\n",
              "    <tr>\n",
              "      <th>4</th>\n",
              "      <td>6</td>\n",
              "      <td>0.463517</td>\n",
              "      <td>4814.685796</td>\n",
              "      <td>0.752439</td>\n",
              "    </tr>\n",
              "    <tr>\n",
              "      <th>5</th>\n",
              "      <td>7</td>\n",
              "      <td>0.458161</td>\n",
              "      <td>4835.658818</td>\n",
              "      <td>0.719331</td>\n",
              "    </tr>\n",
              "    <tr>\n",
              "      <th>6</th>\n",
              "      <td>8</td>\n",
              "      <td>0.432235</td>\n",
              "      <td>5068.054530</td>\n",
              "      <td>0.762736</td>\n",
              "    </tr>\n",
              "    <tr>\n",
              "      <th>7</th>\n",
              "      <td>9</td>\n",
              "      <td>0.445333</td>\n",
              "      <td>5283.283916</td>\n",
              "      <td>0.706295</td>\n",
              "    </tr>\n",
              "    <tr>\n",
              "      <th>8</th>\n",
              "      <td>10</td>\n",
              "      <td>0.435837</td>\n",
              "      <td>5465.492730</td>\n",
              "      <td>0.742554</td>\n",
              "    </tr>\n",
              "    <tr>\n",
              "      <th>9</th>\n",
              "      <td>11</td>\n",
              "      <td>0.437748</td>\n",
              "      <td>5615.190176</td>\n",
              "      <td>0.744589</td>\n",
              "    </tr>\n",
              "    <tr>\n",
              "      <th>10</th>\n",
              "      <td>12</td>\n",
              "      <td>0.421436</td>\n",
              "      <td>5619.360754</td>\n",
              "      <td>0.786850</td>\n",
              "    </tr>\n",
              "    <tr>\n",
              "      <th>11</th>\n",
              "      <td>13</td>\n",
              "      <td>0.420962</td>\n",
              "      <td>5539.424560</td>\n",
              "      <td>0.782800</td>\n",
              "    </tr>\n",
              "    <tr>\n",
              "      <th>12</th>\n",
              "      <td>14</td>\n",
              "      <td>0.413594</td>\n",
              "      <td>5612.808434</td>\n",
              "      <td>0.830164</td>\n",
              "    </tr>\n",
              "  </tbody>\n",
              "</table>\n",
              "</div>\n",
              "      <button class=\"colab-df-convert\" onclick=\"convertToInteractive('df-ab467837-52b3-461c-be77-8bf3f00679db')\"\n",
              "              title=\"Convert this dataframe to an interactive table.\"\n",
              "              style=\"display:none;\">\n",
              "        \n",
              "  <svg xmlns=\"http://www.w3.org/2000/svg\" height=\"24px\"viewBox=\"0 0 24 24\"\n",
              "       width=\"24px\">\n",
              "    <path d=\"M0 0h24v24H0V0z\" fill=\"none\"/>\n",
              "    <path d=\"M18.56 5.44l.94 2.06.94-2.06 2.06-.94-2.06-.94-.94-2.06-.94 2.06-2.06.94zm-11 1L8.5 8.5l.94-2.06 2.06-.94-2.06-.94L8.5 2.5l-.94 2.06-2.06.94zm10 10l.94 2.06.94-2.06 2.06-.94-2.06-.94-.94-2.06-.94 2.06-2.06.94z\"/><path d=\"M17.41 7.96l-1.37-1.37c-.4-.4-.92-.59-1.43-.59-.52 0-1.04.2-1.43.59L10.3 9.45l-7.72 7.72c-.78.78-.78 2.05 0 2.83L4 21.41c.39.39.9.59 1.41.59.51 0 1.02-.2 1.41-.59l7.78-7.78 2.81-2.81c.8-.78.8-2.07 0-2.86zM5.41 20L4 18.59l7.72-7.72 1.47 1.35L5.41 20z\"/>\n",
              "  </svg>\n",
              "      </button>\n",
              "      \n",
              "  <style>\n",
              "    .colab-df-container {\n",
              "      display:flex;\n",
              "      flex-wrap:wrap;\n",
              "      gap: 12px;\n",
              "    }\n",
              "\n",
              "    .colab-df-convert {\n",
              "      background-color: #E8F0FE;\n",
              "      border: none;\n",
              "      border-radius: 50%;\n",
              "      cursor: pointer;\n",
              "      display: none;\n",
              "      fill: #1967D2;\n",
              "      height: 32px;\n",
              "      padding: 0 0 0 0;\n",
              "      width: 32px;\n",
              "    }\n",
              "\n",
              "    .colab-df-convert:hover {\n",
              "      background-color: #E2EBFA;\n",
              "      box-shadow: 0px 1px 2px rgba(60, 64, 67, 0.3), 0px 1px 3px 1px rgba(60, 64, 67, 0.15);\n",
              "      fill: #174EA6;\n",
              "    }\n",
              "\n",
              "    [theme=dark] .colab-df-convert {\n",
              "      background-color: #3B4455;\n",
              "      fill: #D2E3FC;\n",
              "    }\n",
              "\n",
              "    [theme=dark] .colab-df-convert:hover {\n",
              "      background-color: #434B5C;\n",
              "      box-shadow: 0px 1px 3px 1px rgba(0, 0, 0, 0.15);\n",
              "      filter: drop-shadow(0px 1px 2px rgba(0, 0, 0, 0.3));\n",
              "      fill: #FFFFFF;\n",
              "    }\n",
              "  </style>\n",
              "\n",
              "      <script>\n",
              "        const buttonEl =\n",
              "          document.querySelector('#df-ab467837-52b3-461c-be77-8bf3f00679db button.colab-df-convert');\n",
              "        buttonEl.style.display =\n",
              "          google.colab.kernel.accessAllowed ? 'block' : 'none';\n",
              "\n",
              "        async function convertToInteractive(key) {\n",
              "          const element = document.querySelector('#df-ab467837-52b3-461c-be77-8bf3f00679db');\n",
              "          const dataTable =\n",
              "            await google.colab.kernel.invokeFunction('convertToInteractive',\n",
              "                                                     [key], {});\n",
              "          if (!dataTable) return;\n",
              "\n",
              "          const docLinkHtml = 'Like what you see? Visit the ' +\n",
              "            '<a target=\"_blank\" href=https://colab.research.google.com/notebooks/data_table.ipynb>data table notebook</a>'\n",
              "            + ' to learn more about interactive tables.';\n",
              "          element.innerHTML = '';\n",
              "          dataTable['output_type'] = 'display_data';\n",
              "          await google.colab.output.renderOutput(dataTable, element);\n",
              "          const docLink = document.createElement('div');\n",
              "          docLink.innerHTML = docLinkHtml;\n",
              "          element.appendChild(docLink);\n",
              "        }\n",
              "      </script>\n",
              "    </div>\n",
              "  </div>\n",
              "  "
            ],
            "text/plain": [
              "    # de Clusters  Score Silhouette  Score Calinski-Harabasz  \\\n",
              "0               2          0.427076              3240.109402   \n",
              "1               3          0.438608              3891.473542   \n",
              "2               4          0.445198              4136.327121   \n",
              "3               5          0.457785              4926.404576   \n",
              "4               6          0.463517              4814.685796   \n",
              "5               7          0.458161              4835.658818   \n",
              "6               8          0.432235              5068.054530   \n",
              "7               9          0.445333              5283.283916   \n",
              "8              10          0.435837              5465.492730   \n",
              "9              11          0.437748              5615.190176   \n",
              "10             12          0.421436              5619.360754   \n",
              "11             13          0.420962              5539.424560   \n",
              "12             14          0.413594              5612.808434   \n",
              "\n",
              "    Score Davies-Bouldin  \n",
              "0               0.957164  \n",
              "1               0.804450  \n",
              "2               0.751894  \n",
              "3               0.724363  \n",
              "4               0.752439  \n",
              "5               0.719331  \n",
              "6               0.762736  \n",
              "7               0.706295  \n",
              "8               0.742554  \n",
              "9               0.744589  \n",
              "10              0.786850  \n",
              "11              0.782800  \n",
              "12              0.830164  "
            ]
          },
          "execution_count": null,
          "metadata": {},
          "output_type": "execute_result"
        }
      ],
      "source": [
        "metricas_tsne"
      ]
    },
    {
      "cell_type": "markdown",
      "metadata": {
        "id": "-uQITvEMcz-z"
      },
      "source": [
        "#8. Selección de método y número de Clusters"
      ]
    },
    {
      "cell_type": "markdown",
      "metadata": {
        "id": "-99U69fHZmA2"
      },
      "source": [
        "##Resumen de métricas"
      ]
    },
    {
      "cell_type": "code",
      "execution_count": null,
      "metadata": {
        "colab": {
          "background_save": true
        },
        "id": "g1c6KsrBZs4W",
        "outputId": "8e4b8fbd-1111-4586-e2de-bbf97a6a66c1"
      },
      "outputs": [
        {
          "data": {
            "text/html": [
              "\n",
              "  <div id=\"df-f25058f5-6f66-447c-bc78-4fbdaa09cdf1\">\n",
              "    <div class=\"colab-df-container\">\n",
              "      <div>\n",
              "<style scoped>\n",
              "    .dataframe tbody tr th:only-of-type {\n",
              "        vertical-align: middle;\n",
              "    }\n",
              "\n",
              "    .dataframe tbody tr th {\n",
              "        vertical-align: top;\n",
              "    }\n",
              "\n",
              "    .dataframe thead th {\n",
              "        text-align: right;\n",
              "    }\n",
              "</style>\n",
              "<table border=\"1\" class=\"dataframe\">\n",
              "  <thead>\n",
              "    <tr style=\"text-align: right;\">\n",
              "      <th></th>\n",
              "      <th># de Clusters</th>\n",
              "      <th>Score Silhouette</th>\n",
              "      <th>Score Calinski-Harabasz</th>\n",
              "      <th>Score Davies-Bouldin</th>\n",
              "    </tr>\n",
              "  </thead>\n",
              "  <tbody>\n",
              "    <tr>\n",
              "      <th>0</th>\n",
              "      <td>2</td>\n",
              "      <td>0.491766</td>\n",
              "      <td>5042.164551</td>\n",
              "      <td>0.768223</td>\n",
              "    </tr>\n",
              "    <tr>\n",
              "      <th>1</th>\n",
              "      <td>3</td>\n",
              "      <td>0.402277</td>\n",
              "      <td>4706.577695</td>\n",
              "      <td>0.863599</td>\n",
              "    </tr>\n",
              "    <tr>\n",
              "      <th>2</th>\n",
              "      <td>4</td>\n",
              "      <td>0.340266</td>\n",
              "      <td>4298.638174</td>\n",
              "      <td>0.986444</td>\n",
              "    </tr>\n",
              "    <tr>\n",
              "      <th>3</th>\n",
              "      <td>5</td>\n",
              "      <td>0.290371</td>\n",
              "      <td>3737.570210</td>\n",
              "      <td>1.140388</td>\n",
              "    </tr>\n",
              "    <tr>\n",
              "      <th>4</th>\n",
              "      <td>6</td>\n",
              "      <td>0.298675</td>\n",
              "      <td>3440.543181</td>\n",
              "      <td>1.073030</td>\n",
              "    </tr>\n",
              "    <tr>\n",
              "      <th>5</th>\n",
              "      <td>7</td>\n",
              "      <td>0.252655</td>\n",
              "      <td>3178.464687</td>\n",
              "      <td>1.165482</td>\n",
              "    </tr>\n",
              "    <tr>\n",
              "      <th>6</th>\n",
              "      <td>8</td>\n",
              "      <td>0.241174</td>\n",
              "      <td>2945.193641</td>\n",
              "      <td>1.213691</td>\n",
              "    </tr>\n",
              "    <tr>\n",
              "      <th>7</th>\n",
              "      <td>9</td>\n",
              "      <td>0.249084</td>\n",
              "      <td>2779.073055</td>\n",
              "      <td>1.199140</td>\n",
              "    </tr>\n",
              "    <tr>\n",
              "      <th>8</th>\n",
              "      <td>10</td>\n",
              "      <td>0.232733</td>\n",
              "      <td>2632.310780</td>\n",
              "      <td>1.250760</td>\n",
              "    </tr>\n",
              "    <tr>\n",
              "      <th>9</th>\n",
              "      <td>11</td>\n",
              "      <td>0.234336</td>\n",
              "      <td>2510.171009</td>\n",
              "      <td>1.228064</td>\n",
              "    </tr>\n",
              "    <tr>\n",
              "      <th>10</th>\n",
              "      <td>12</td>\n",
              "      <td>0.232779</td>\n",
              "      <td>2392.594863</td>\n",
              "      <td>1.219405</td>\n",
              "    </tr>\n",
              "    <tr>\n",
              "      <th>11</th>\n",
              "      <td>13</td>\n",
              "      <td>0.230314</td>\n",
              "      <td>2302.837823</td>\n",
              "      <td>1.231122</td>\n",
              "    </tr>\n",
              "    <tr>\n",
              "      <th>12</th>\n",
              "      <td>14</td>\n",
              "      <td>0.230822</td>\n",
              "      <td>2235.188644</td>\n",
              "      <td>1.179556</td>\n",
              "    </tr>\n",
              "  </tbody>\n",
              "</table>\n",
              "</div>\n",
              "      <button class=\"colab-df-convert\" onclick=\"convertToInteractive('df-f25058f5-6f66-447c-bc78-4fbdaa09cdf1')\"\n",
              "              title=\"Convert this dataframe to an interactive table.\"\n",
              "              style=\"display:none;\">\n",
              "        \n",
              "  <svg xmlns=\"http://www.w3.org/2000/svg\" height=\"24px\"viewBox=\"0 0 24 24\"\n",
              "       width=\"24px\">\n",
              "    <path d=\"M0 0h24v24H0V0z\" fill=\"none\"/>\n",
              "    <path d=\"M18.56 5.44l.94 2.06.94-2.06 2.06-.94-2.06-.94-.94-2.06-.94 2.06-2.06.94zm-11 1L8.5 8.5l.94-2.06 2.06-.94-2.06-.94L8.5 2.5l-.94 2.06-2.06.94zm10 10l.94 2.06.94-2.06 2.06-.94-2.06-.94-.94-2.06-.94 2.06-2.06.94z\"/><path d=\"M17.41 7.96l-1.37-1.37c-.4-.4-.92-.59-1.43-.59-.52 0-1.04.2-1.43.59L10.3 9.45l-7.72 7.72c-.78.78-.78 2.05 0 2.83L4 21.41c.39.39.9.59 1.41.59.51 0 1.02-.2 1.41-.59l7.78-7.78 2.81-2.81c.8-.78.8-2.07 0-2.86zM5.41 20L4 18.59l7.72-7.72 1.47 1.35L5.41 20z\"/>\n",
              "  </svg>\n",
              "      </button>\n",
              "      \n",
              "  <style>\n",
              "    .colab-df-container {\n",
              "      display:flex;\n",
              "      flex-wrap:wrap;\n",
              "      gap: 12px;\n",
              "    }\n",
              "\n",
              "    .colab-df-convert {\n",
              "      background-color: #E8F0FE;\n",
              "      border: none;\n",
              "      border-radius: 50%;\n",
              "      cursor: pointer;\n",
              "      display: none;\n",
              "      fill: #1967D2;\n",
              "      height: 32px;\n",
              "      padding: 0 0 0 0;\n",
              "      width: 32px;\n",
              "    }\n",
              "\n",
              "    .colab-df-convert:hover {\n",
              "      background-color: #E2EBFA;\n",
              "      box-shadow: 0px 1px 2px rgba(60, 64, 67, 0.3), 0px 1px 3px 1px rgba(60, 64, 67, 0.15);\n",
              "      fill: #174EA6;\n",
              "    }\n",
              "\n",
              "    [theme=dark] .colab-df-convert {\n",
              "      background-color: #3B4455;\n",
              "      fill: #D2E3FC;\n",
              "    }\n",
              "\n",
              "    [theme=dark] .colab-df-convert:hover {\n",
              "      background-color: #434B5C;\n",
              "      box-shadow: 0px 1px 3px 1px rgba(0, 0, 0, 0.15);\n",
              "      filter: drop-shadow(0px 1px 2px rgba(0, 0, 0, 0.3));\n",
              "      fill: #FFFFFF;\n",
              "    }\n",
              "  </style>\n",
              "\n",
              "      <script>\n",
              "        const buttonEl =\n",
              "          document.querySelector('#df-f25058f5-6f66-447c-bc78-4fbdaa09cdf1 button.colab-df-convert');\n",
              "        buttonEl.style.display =\n",
              "          google.colab.kernel.accessAllowed ? 'block' : 'none';\n",
              "\n",
              "        async function convertToInteractive(key) {\n",
              "          const element = document.querySelector('#df-f25058f5-6f66-447c-bc78-4fbdaa09cdf1');\n",
              "          const dataTable =\n",
              "            await google.colab.kernel.invokeFunction('convertToInteractive',\n",
              "                                                     [key], {});\n",
              "          if (!dataTable) return;\n",
              "\n",
              "          const docLinkHtml = 'Like what you see? Visit the ' +\n",
              "            '<a target=\"_blank\" href=https://colab.research.google.com/notebooks/data_table.ipynb>data table notebook</a>'\n",
              "            + ' to learn more about interactive tables.';\n",
              "          element.innerHTML = '';\n",
              "          dataTable['output_type'] = 'display_data';\n",
              "          await google.colab.output.renderOutput(dataTable, element);\n",
              "          const docLink = document.createElement('div');\n",
              "          docLink.innerHTML = docLinkHtml;\n",
              "          element.appendChild(docLink);\n",
              "        }\n",
              "      </script>\n",
              "    </div>\n",
              "  </div>\n",
              "  "
            ],
            "text/plain": [
              "    # de Clusters  Score Silhouette  Score Calinski-Harabasz  \\\n",
              "0               2          0.491766              5042.164551   \n",
              "1               3          0.402277              4706.577695   \n",
              "2               4          0.340266              4298.638174   \n",
              "3               5          0.290371              3737.570210   \n",
              "4               6          0.298675              3440.543181   \n",
              "5               7          0.252655              3178.464687   \n",
              "6               8          0.241174              2945.193641   \n",
              "7               9          0.249084              2779.073055   \n",
              "8              10          0.232733              2632.310780   \n",
              "9              11          0.234336              2510.171009   \n",
              "10             12          0.232779              2392.594863   \n",
              "11             13          0.230314              2302.837823   \n",
              "12             14          0.230822              2235.188644   \n",
              "\n",
              "    Score Davies-Bouldin  \n",
              "0               0.768223  \n",
              "1               0.863599  \n",
              "2               0.986444  \n",
              "3               1.140388  \n",
              "4               1.073030  \n",
              "5               1.165482  \n",
              "6               1.213691  \n",
              "7               1.199140  \n",
              "8               1.250760  \n",
              "9               1.228064  \n",
              "10              1.219405  \n",
              "11              1.231122  \n",
              "12              1.179556  "
            ]
          },
          "execution_count": null,
          "metadata": {},
          "output_type": "execute_result"
        }
      ],
      "source": [
        "metricas_kmeans.head(14)"
      ]
    },
    {
      "cell_type": "code",
      "execution_count": null,
      "metadata": {
        "colab": {
          "background_save": true
        },
        "id": "RyZ1Sa0ReP3Q",
        "outputId": "fa8f1b48-076d-44fb-a2a9-7d03016306eb"
      },
      "outputs": [
        {
          "data": {
            "text/html": [
              "\n",
              "  <div id=\"df-efa54653-bd57-4515-b5ba-40b3de115830\">\n",
              "    <div class=\"colab-df-container\">\n",
              "      <div>\n",
              "<style scoped>\n",
              "    .dataframe tbody tr th:only-of-type {\n",
              "        vertical-align: middle;\n",
              "    }\n",
              "\n",
              "    .dataframe tbody tr th {\n",
              "        vertical-align: top;\n",
              "    }\n",
              "\n",
              "    .dataframe thead th {\n",
              "        text-align: right;\n",
              "    }\n",
              "</style>\n",
              "<table border=\"1\" class=\"dataframe\">\n",
              "  <thead>\n",
              "    <tr style=\"text-align: right;\">\n",
              "      <th></th>\n",
              "      <th># de Clusters</th>\n",
              "      <th>Score Silhouette</th>\n",
              "      <th>Score Calinski-Harabasz</th>\n",
              "      <th>Score Davies-Bouldin</th>\n",
              "    </tr>\n",
              "  </thead>\n",
              "  <tbody>\n",
              "    <tr>\n",
              "      <th>0</th>\n",
              "      <td>2</td>\n",
              "      <td>0.451575</td>\n",
              "      <td>4473.200085</td>\n",
              "      <td>0.810871</td>\n",
              "    </tr>\n",
              "    <tr>\n",
              "      <th>1</th>\n",
              "      <td>3</td>\n",
              "      <td>0.369658</td>\n",
              "      <td>4214.697235</td>\n",
              "      <td>0.900257</td>\n",
              "    </tr>\n",
              "    <tr>\n",
              "      <th>2</th>\n",
              "      <td>4</td>\n",
              "      <td>0.257612</td>\n",
              "      <td>3469.163511</td>\n",
              "      <td>1.088304</td>\n",
              "    </tr>\n",
              "    <tr>\n",
              "      <th>3</th>\n",
              "      <td>5</td>\n",
              "      <td>0.233479</td>\n",
              "      <td>3132.512703</td>\n",
              "      <td>1.083242</td>\n",
              "    </tr>\n",
              "    <tr>\n",
              "      <th>4</th>\n",
              "      <td>6</td>\n",
              "      <td>0.248018</td>\n",
              "      <td>2867.689069</td>\n",
              "      <td>1.145911</td>\n",
              "    </tr>\n",
              "    <tr>\n",
              "      <th>5</th>\n",
              "      <td>7</td>\n",
              "      <td>0.206191</td>\n",
              "      <td>2675.038913</td>\n",
              "      <td>1.270841</td>\n",
              "    </tr>\n",
              "    <tr>\n",
              "      <th>6</th>\n",
              "      <td>8</td>\n",
              "      <td>0.227500</td>\n",
              "      <td>2562.970941</td>\n",
              "      <td>1.241746</td>\n",
              "    </tr>\n",
              "    <tr>\n",
              "      <th>7</th>\n",
              "      <td>9</td>\n",
              "      <td>0.194967</td>\n",
              "      <td>2407.926345</td>\n",
              "      <td>1.267669</td>\n",
              "    </tr>\n",
              "    <tr>\n",
              "      <th>8</th>\n",
              "      <td>10</td>\n",
              "      <td>0.200164</td>\n",
              "      <td>2288.471496</td>\n",
              "      <td>1.211840</td>\n",
              "    </tr>\n",
              "    <tr>\n",
              "      <th>9</th>\n",
              "      <td>11</td>\n",
              "      <td>0.184857</td>\n",
              "      <td>2208.984677</td>\n",
              "      <td>1.300593</td>\n",
              "    </tr>\n",
              "    <tr>\n",
              "      <th>10</th>\n",
              "      <td>12</td>\n",
              "      <td>0.186523</td>\n",
              "      <td>2099.759674</td>\n",
              "      <td>1.348009</td>\n",
              "    </tr>\n",
              "    <tr>\n",
              "      <th>11</th>\n",
              "      <td>13</td>\n",
              "      <td>0.181602</td>\n",
              "      <td>2008.824414</td>\n",
              "      <td>1.322669</td>\n",
              "    </tr>\n",
              "    <tr>\n",
              "      <th>12</th>\n",
              "      <td>14</td>\n",
              "      <td>0.179961</td>\n",
              "      <td>1932.906497</td>\n",
              "      <td>1.335766</td>\n",
              "    </tr>\n",
              "  </tbody>\n",
              "</table>\n",
              "</div>\n",
              "      <button class=\"colab-df-convert\" onclick=\"convertToInteractive('df-efa54653-bd57-4515-b5ba-40b3de115830')\"\n",
              "              title=\"Convert this dataframe to an interactive table.\"\n",
              "              style=\"display:none;\">\n",
              "        \n",
              "  <svg xmlns=\"http://www.w3.org/2000/svg\" height=\"24px\"viewBox=\"0 0 24 24\"\n",
              "       width=\"24px\">\n",
              "    <path d=\"M0 0h24v24H0V0z\" fill=\"none\"/>\n",
              "    <path d=\"M18.56 5.44l.94 2.06.94-2.06 2.06-.94-2.06-.94-.94-2.06-.94 2.06-2.06.94zm-11 1L8.5 8.5l.94-2.06 2.06-.94-2.06-.94L8.5 2.5l-.94 2.06-2.06.94zm10 10l.94 2.06.94-2.06 2.06-.94-2.06-.94-.94-2.06-.94 2.06-2.06.94z\"/><path d=\"M17.41 7.96l-1.37-1.37c-.4-.4-.92-.59-1.43-.59-.52 0-1.04.2-1.43.59L10.3 9.45l-7.72 7.72c-.78.78-.78 2.05 0 2.83L4 21.41c.39.39.9.59 1.41.59.51 0 1.02-.2 1.41-.59l7.78-7.78 2.81-2.81c.8-.78.8-2.07 0-2.86zM5.41 20L4 18.59l7.72-7.72 1.47 1.35L5.41 20z\"/>\n",
              "  </svg>\n",
              "      </button>\n",
              "      \n",
              "  <style>\n",
              "    .colab-df-container {\n",
              "      display:flex;\n",
              "      flex-wrap:wrap;\n",
              "      gap: 12px;\n",
              "    }\n",
              "\n",
              "    .colab-df-convert {\n",
              "      background-color: #E8F0FE;\n",
              "      border: none;\n",
              "      border-radius: 50%;\n",
              "      cursor: pointer;\n",
              "      display: none;\n",
              "      fill: #1967D2;\n",
              "      height: 32px;\n",
              "      padding: 0 0 0 0;\n",
              "      width: 32px;\n",
              "    }\n",
              "\n",
              "    .colab-df-convert:hover {\n",
              "      background-color: #E2EBFA;\n",
              "      box-shadow: 0px 1px 2px rgba(60, 64, 67, 0.3), 0px 1px 3px 1px rgba(60, 64, 67, 0.15);\n",
              "      fill: #174EA6;\n",
              "    }\n",
              "\n",
              "    [theme=dark] .colab-df-convert {\n",
              "      background-color: #3B4455;\n",
              "      fill: #D2E3FC;\n",
              "    }\n",
              "\n",
              "    [theme=dark] .colab-df-convert:hover {\n",
              "      background-color: #434B5C;\n",
              "      box-shadow: 0px 1px 3px 1px rgba(0, 0, 0, 0.15);\n",
              "      filter: drop-shadow(0px 1px 2px rgba(0, 0, 0, 0.3));\n",
              "      fill: #FFFFFF;\n",
              "    }\n",
              "  </style>\n",
              "\n",
              "      <script>\n",
              "        const buttonEl =\n",
              "          document.querySelector('#df-efa54653-bd57-4515-b5ba-40b3de115830 button.colab-df-convert');\n",
              "        buttonEl.style.display =\n",
              "          google.colab.kernel.accessAllowed ? 'block' : 'none';\n",
              "\n",
              "        async function convertToInteractive(key) {\n",
              "          const element = document.querySelector('#df-efa54653-bd57-4515-b5ba-40b3de115830');\n",
              "          const dataTable =\n",
              "            await google.colab.kernel.invokeFunction('convertToInteractive',\n",
              "                                                     [key], {});\n",
              "          if (!dataTable) return;\n",
              "\n",
              "          const docLinkHtml = 'Like what you see? Visit the ' +\n",
              "            '<a target=\"_blank\" href=https://colab.research.google.com/notebooks/data_table.ipynb>data table notebook</a>'\n",
              "            + ' to learn more about interactive tables.';\n",
              "          element.innerHTML = '';\n",
              "          dataTable['output_type'] = 'display_data';\n",
              "          await google.colab.output.renderOutput(dataTable, element);\n",
              "          const docLink = document.createElement('div');\n",
              "          docLink.innerHTML = docLinkHtml;\n",
              "          element.appendChild(docLink);\n",
              "        }\n",
              "      </script>\n",
              "    </div>\n",
              "  </div>\n",
              "  "
            ],
            "text/plain": [
              "    # de Clusters  Score Silhouette  Score Calinski-Harabasz  \\\n",
              "0               2          0.451575              4473.200085   \n",
              "1               3          0.369658              4214.697235   \n",
              "2               4          0.257612              3469.163511   \n",
              "3               5          0.233479              3132.512703   \n",
              "4               6          0.248018              2867.689069   \n",
              "5               7          0.206191              2675.038913   \n",
              "6               8          0.227500              2562.970941   \n",
              "7               9          0.194967              2407.926345   \n",
              "8              10          0.200164              2288.471496   \n",
              "9              11          0.184857              2208.984677   \n",
              "10             12          0.186523              2099.759674   \n",
              "11             13          0.181602              2008.824414   \n",
              "12             14          0.179961              1932.906497   \n",
              "\n",
              "    Score Davies-Bouldin  \n",
              "0               0.810871  \n",
              "1               0.900257  \n",
              "2               1.088304  \n",
              "3               1.083242  \n",
              "4               1.145911  \n",
              "5               1.270841  \n",
              "6               1.241746  \n",
              "7               1.267669  \n",
              "8               1.211840  \n",
              "9               1.300593  \n",
              "10              1.348009  \n",
              "11              1.322669  \n",
              "12              1.335766  "
            ]
          },
          "execution_count": null,
          "metadata": {},
          "output_type": "execute_result"
        }
      ],
      "source": [
        "metricas_hclust.head(14)"
      ]
    },
    {
      "cell_type": "code",
      "execution_count": null,
      "metadata": {
        "colab": {
          "background_save": true
        },
        "id": "39gwht0xeSqL",
        "outputId": "2d106a24-e1a1-4e2e-9b49-975f79133aa8"
      },
      "outputs": [
        {
          "data": {
            "text/html": [
              "\n",
              "  <div id=\"df-2fcdb231-bb1b-4ab8-804e-03eb16013b70\">\n",
              "    <div class=\"colab-df-container\">\n",
              "      <div>\n",
              "<style scoped>\n",
              "    .dataframe tbody tr th:only-of-type {\n",
              "        vertical-align: middle;\n",
              "    }\n",
              "\n",
              "    .dataframe tbody tr th {\n",
              "        vertical-align: top;\n",
              "    }\n",
              "\n",
              "    .dataframe thead th {\n",
              "        text-align: right;\n",
              "    }\n",
              "</style>\n",
              "<table border=\"1\" class=\"dataframe\">\n",
              "  <thead>\n",
              "    <tr style=\"text-align: right;\">\n",
              "      <th></th>\n",
              "      <th># de Clusters</th>\n",
              "      <th>Score Silhouette</th>\n",
              "      <th>Score Calinski-Harabasz</th>\n",
              "      <th>Score Davies-Bouldin</th>\n",
              "    </tr>\n",
              "  </thead>\n",
              "  <tbody>\n",
              "    <tr>\n",
              "      <th>0</th>\n",
              "      <td>2</td>\n",
              "      <td>0.556749</td>\n",
              "      <td>6877.108763</td>\n",
              "      <td>0.639972</td>\n",
              "    </tr>\n",
              "    <tr>\n",
              "      <th>1</th>\n",
              "      <td>3</td>\n",
              "      <td>0.492861</td>\n",
              "      <td>7771.621415</td>\n",
              "      <td>0.665589</td>\n",
              "    </tr>\n",
              "    <tr>\n",
              "      <th>2</th>\n",
              "      <td>4</td>\n",
              "      <td>0.451335</td>\n",
              "      <td>8277.932155</td>\n",
              "      <td>0.712327</td>\n",
              "    </tr>\n",
              "    <tr>\n",
              "      <th>3</th>\n",
              "      <td>5</td>\n",
              "      <td>0.415495</td>\n",
              "      <td>7983.233132</td>\n",
              "      <td>0.775425</td>\n",
              "    </tr>\n",
              "    <tr>\n",
              "      <th>4</th>\n",
              "      <td>6</td>\n",
              "      <td>0.375914</td>\n",
              "      <td>7658.463445</td>\n",
              "      <td>0.838733</td>\n",
              "    </tr>\n",
              "    <tr>\n",
              "      <th>5</th>\n",
              "      <td>7</td>\n",
              "      <td>0.366776</td>\n",
              "      <td>7393.979495</td>\n",
              "      <td>0.864497</td>\n",
              "    </tr>\n",
              "    <tr>\n",
              "      <th>6</th>\n",
              "      <td>8</td>\n",
              "      <td>0.376830</td>\n",
              "      <td>7262.931881</td>\n",
              "      <td>0.849109</td>\n",
              "    </tr>\n",
              "    <tr>\n",
              "      <th>7</th>\n",
              "      <td>9</td>\n",
              "      <td>0.370222</td>\n",
              "      <td>7216.453940</td>\n",
              "      <td>0.855393</td>\n",
              "    </tr>\n",
              "    <tr>\n",
              "      <th>8</th>\n",
              "      <td>10</td>\n",
              "      <td>0.367356</td>\n",
              "      <td>7127.091335</td>\n",
              "      <td>0.866030</td>\n",
              "    </tr>\n",
              "    <tr>\n",
              "      <th>9</th>\n",
              "      <td>11</td>\n",
              "      <td>0.360900</td>\n",
              "      <td>7015.680645</td>\n",
              "      <td>0.842306</td>\n",
              "    </tr>\n",
              "    <tr>\n",
              "      <th>10</th>\n",
              "      <td>12</td>\n",
              "      <td>0.361377</td>\n",
              "      <td>6967.105720</td>\n",
              "      <td>0.828319</td>\n",
              "    </tr>\n",
              "    <tr>\n",
              "      <th>11</th>\n",
              "      <td>13</td>\n",
              "      <td>0.349311</td>\n",
              "      <td>6900.607056</td>\n",
              "      <td>0.826667</td>\n",
              "    </tr>\n",
              "    <tr>\n",
              "      <th>12</th>\n",
              "      <td>14</td>\n",
              "      <td>0.354314</td>\n",
              "      <td>6844.579855</td>\n",
              "      <td>0.827873</td>\n",
              "    </tr>\n",
              "  </tbody>\n",
              "</table>\n",
              "</div>\n",
              "      <button class=\"colab-df-convert\" onclick=\"convertToInteractive('df-2fcdb231-bb1b-4ab8-804e-03eb16013b70')\"\n",
              "              title=\"Convert this dataframe to an interactive table.\"\n",
              "              style=\"display:none;\">\n",
              "        \n",
              "  <svg xmlns=\"http://www.w3.org/2000/svg\" height=\"24px\"viewBox=\"0 0 24 24\"\n",
              "       width=\"24px\">\n",
              "    <path d=\"M0 0h24v24H0V0z\" fill=\"none\"/>\n",
              "    <path d=\"M18.56 5.44l.94 2.06.94-2.06 2.06-.94-2.06-.94-.94-2.06-.94 2.06-2.06.94zm-11 1L8.5 8.5l.94-2.06 2.06-.94-2.06-.94L8.5 2.5l-.94 2.06-2.06.94zm10 10l.94 2.06.94-2.06 2.06-.94-2.06-.94-.94-2.06-.94 2.06-2.06.94z\"/><path d=\"M17.41 7.96l-1.37-1.37c-.4-.4-.92-.59-1.43-.59-.52 0-1.04.2-1.43.59L10.3 9.45l-7.72 7.72c-.78.78-.78 2.05 0 2.83L4 21.41c.39.39.9.59 1.41.59.51 0 1.02-.2 1.41-.59l7.78-7.78 2.81-2.81c.8-.78.8-2.07 0-2.86zM5.41 20L4 18.59l7.72-7.72 1.47 1.35L5.41 20z\"/>\n",
              "  </svg>\n",
              "      </button>\n",
              "      \n",
              "  <style>\n",
              "    .colab-df-container {\n",
              "      display:flex;\n",
              "      flex-wrap:wrap;\n",
              "      gap: 12px;\n",
              "    }\n",
              "\n",
              "    .colab-df-convert {\n",
              "      background-color: #E8F0FE;\n",
              "      border: none;\n",
              "      border-radius: 50%;\n",
              "      cursor: pointer;\n",
              "      display: none;\n",
              "      fill: #1967D2;\n",
              "      height: 32px;\n",
              "      padding: 0 0 0 0;\n",
              "      width: 32px;\n",
              "    }\n",
              "\n",
              "    .colab-df-convert:hover {\n",
              "      background-color: #E2EBFA;\n",
              "      box-shadow: 0px 1px 2px rgba(60, 64, 67, 0.3), 0px 1px 3px 1px rgba(60, 64, 67, 0.15);\n",
              "      fill: #174EA6;\n",
              "    }\n",
              "\n",
              "    [theme=dark] .colab-df-convert {\n",
              "      background-color: #3B4455;\n",
              "      fill: #D2E3FC;\n",
              "    }\n",
              "\n",
              "    [theme=dark] .colab-df-convert:hover {\n",
              "      background-color: #434B5C;\n",
              "      box-shadow: 0px 1px 3px 1px rgba(0, 0, 0, 0.15);\n",
              "      filter: drop-shadow(0px 1px 2px rgba(0, 0, 0, 0.3));\n",
              "      fill: #FFFFFF;\n",
              "    }\n",
              "  </style>\n",
              "\n",
              "      <script>\n",
              "        const buttonEl =\n",
              "          document.querySelector('#df-2fcdb231-bb1b-4ab8-804e-03eb16013b70 button.colab-df-convert');\n",
              "        buttonEl.style.display =\n",
              "          google.colab.kernel.accessAllowed ? 'block' : 'none';\n",
              "\n",
              "        async function convertToInteractive(key) {\n",
              "          const element = document.querySelector('#df-2fcdb231-bb1b-4ab8-804e-03eb16013b70');\n",
              "          const dataTable =\n",
              "            await google.colab.kernel.invokeFunction('convertToInteractive',\n",
              "                                                     [key], {});\n",
              "          if (!dataTable) return;\n",
              "\n",
              "          const docLinkHtml = 'Like what you see? Visit the ' +\n",
              "            '<a target=\"_blank\" href=https://colab.research.google.com/notebooks/data_table.ipynb>data table notebook</a>'\n",
              "            + ' to learn more about interactive tables.';\n",
              "          element.innerHTML = '';\n",
              "          dataTable['output_type'] = 'display_data';\n",
              "          await google.colab.output.renderOutput(dataTable, element);\n",
              "          const docLink = document.createElement('div');\n",
              "          docLink.innerHTML = docLinkHtml;\n",
              "          element.appendChild(docLink);\n",
              "        }\n",
              "      </script>\n",
              "    </div>\n",
              "  </div>\n",
              "  "
            ],
            "text/plain": [
              "    # de Clusters  Score Silhouette  Score Calinski-Harabasz  \\\n",
              "0               2          0.556749              6877.108763   \n",
              "1               3          0.492861              7771.621415   \n",
              "2               4          0.451335              8277.932155   \n",
              "3               5          0.415495              7983.233132   \n",
              "4               6          0.375914              7658.463445   \n",
              "5               7          0.366776              7393.979495   \n",
              "6               8          0.376830              7262.931881   \n",
              "7               9          0.370222              7216.453940   \n",
              "8              10          0.367356              7127.091335   \n",
              "9              11          0.360900              7015.680645   \n",
              "10             12          0.361377              6967.105720   \n",
              "11             13          0.349311              6900.607056   \n",
              "12             14          0.354314              6844.579855   \n",
              "\n",
              "    Score Davies-Bouldin  \n",
              "0               0.639972  \n",
              "1               0.665589  \n",
              "2               0.712327  \n",
              "3               0.775425  \n",
              "4               0.838733  \n",
              "5               0.864497  \n",
              "6               0.849109  \n",
              "7               0.855393  \n",
              "8               0.866030  \n",
              "9               0.842306  \n",
              "10              0.828319  \n",
              "11              0.826667  \n",
              "12              0.827873  "
            ]
          },
          "execution_count": null,
          "metadata": {},
          "output_type": "execute_result"
        }
      ],
      "source": [
        "metricas_pca.head(14)"
      ]
    },
    {
      "cell_type": "code",
      "execution_count": null,
      "metadata": {
        "colab": {
          "background_save": true
        },
        "id": "vgjKjmXveU1C",
        "outputId": "66a0b1fa-9295-4999-d6c0-089ce31e0f82"
      },
      "outputs": [
        {
          "data": {
            "text/html": [
              "\n",
              "  <div id=\"df-7b3ffb69-1668-4aeb-bfbf-2e9679c9a250\">\n",
              "    <div class=\"colab-df-container\">\n",
              "      <div>\n",
              "<style scoped>\n",
              "    .dataframe tbody tr th:only-of-type {\n",
              "        vertical-align: middle;\n",
              "    }\n",
              "\n",
              "    .dataframe tbody tr th {\n",
              "        vertical-align: top;\n",
              "    }\n",
              "\n",
              "    .dataframe thead th {\n",
              "        text-align: right;\n",
              "    }\n",
              "</style>\n",
              "<table border=\"1\" class=\"dataframe\">\n",
              "  <thead>\n",
              "    <tr style=\"text-align: right;\">\n",
              "      <th></th>\n",
              "      <th># de Clusters</th>\n",
              "      <th>Score Silhouette</th>\n",
              "      <th>Score Calinski-Harabasz</th>\n",
              "      <th>Score Davies-Bouldin</th>\n",
              "    </tr>\n",
              "  </thead>\n",
              "  <tbody>\n",
              "    <tr>\n",
              "      <th>0</th>\n",
              "      <td>2</td>\n",
              "      <td>0.556930</td>\n",
              "      <td>6883.177403</td>\n",
              "      <td>0.640382</td>\n",
              "    </tr>\n",
              "    <tr>\n",
              "      <th>1</th>\n",
              "      <td>3</td>\n",
              "      <td>0.494300</td>\n",
              "      <td>7804.871258</td>\n",
              "      <td>0.663084</td>\n",
              "    </tr>\n",
              "    <tr>\n",
              "      <th>2</th>\n",
              "      <td>4</td>\n",
              "      <td>0.453048</td>\n",
              "      <td>8354.366797</td>\n",
              "      <td>0.710059</td>\n",
              "    </tr>\n",
              "    <tr>\n",
              "      <th>3</th>\n",
              "      <td>5</td>\n",
              "      <td>0.416097</td>\n",
              "      <td>8050.534269</td>\n",
              "      <td>0.775668</td>\n",
              "    </tr>\n",
              "    <tr>\n",
              "      <th>4</th>\n",
              "      <td>6</td>\n",
              "      <td>0.376949</td>\n",
              "      <td>7730.746845</td>\n",
              "      <td>0.844301</td>\n",
              "    </tr>\n",
              "    <tr>\n",
              "      <th>5</th>\n",
              "      <td>7</td>\n",
              "      <td>0.369911</td>\n",
              "      <td>7484.960676</td>\n",
              "      <td>0.862770</td>\n",
              "    </tr>\n",
              "    <tr>\n",
              "      <th>6</th>\n",
              "      <td>8</td>\n",
              "      <td>0.383190</td>\n",
              "      <td>7407.004439</td>\n",
              "      <td>0.838611</td>\n",
              "    </tr>\n",
              "    <tr>\n",
              "      <th>7</th>\n",
              "      <td>9</td>\n",
              "      <td>0.375350</td>\n",
              "      <td>7361.747425</td>\n",
              "      <td>0.846336</td>\n",
              "    </tr>\n",
              "    <tr>\n",
              "      <th>8</th>\n",
              "      <td>10</td>\n",
              "      <td>0.374500</td>\n",
              "      <td>7273.677424</td>\n",
              "      <td>0.855803</td>\n",
              "    </tr>\n",
              "    <tr>\n",
              "      <th>9</th>\n",
              "      <td>11</td>\n",
              "      <td>0.364826</td>\n",
              "      <td>7195.612094</td>\n",
              "      <td>0.833930</td>\n",
              "    </tr>\n",
              "    <tr>\n",
              "      <th>10</th>\n",
              "      <td>12</td>\n",
              "      <td>0.366040</td>\n",
              "      <td>7115.166316</td>\n",
              "      <td>0.831416</td>\n",
              "    </tr>\n",
              "    <tr>\n",
              "      <th>11</th>\n",
              "      <td>13</td>\n",
              "      <td>0.363367</td>\n",
              "      <td>7065.993210</td>\n",
              "      <td>0.842432</td>\n",
              "    </tr>\n",
              "    <tr>\n",
              "      <th>12</th>\n",
              "      <td>14</td>\n",
              "      <td>0.363545</td>\n",
              "      <td>7064.014912</td>\n",
              "      <td>0.818930</td>\n",
              "    </tr>\n",
              "  </tbody>\n",
              "</table>\n",
              "</div>\n",
              "      <button class=\"colab-df-convert\" onclick=\"convertToInteractive('df-7b3ffb69-1668-4aeb-bfbf-2e9679c9a250')\"\n",
              "              title=\"Convert this dataframe to an interactive table.\"\n",
              "              style=\"display:none;\">\n",
              "        \n",
              "  <svg xmlns=\"http://www.w3.org/2000/svg\" height=\"24px\"viewBox=\"0 0 24 24\"\n",
              "       width=\"24px\">\n",
              "    <path d=\"M0 0h24v24H0V0z\" fill=\"none\"/>\n",
              "    <path d=\"M18.56 5.44l.94 2.06.94-2.06 2.06-.94-2.06-.94-.94-2.06-.94 2.06-2.06.94zm-11 1L8.5 8.5l.94-2.06 2.06-.94-2.06-.94L8.5 2.5l-.94 2.06-2.06.94zm10 10l.94 2.06.94-2.06 2.06-.94-2.06-.94-.94-2.06-.94 2.06-2.06.94z\"/><path d=\"M17.41 7.96l-1.37-1.37c-.4-.4-.92-.59-1.43-.59-.52 0-1.04.2-1.43.59L10.3 9.45l-7.72 7.72c-.78.78-.78 2.05 0 2.83L4 21.41c.39.39.9.59 1.41.59.51 0 1.02-.2 1.41-.59l7.78-7.78 2.81-2.81c.8-.78.8-2.07 0-2.86zM5.41 20L4 18.59l7.72-7.72 1.47 1.35L5.41 20z\"/>\n",
              "  </svg>\n",
              "      </button>\n",
              "      \n",
              "  <style>\n",
              "    .colab-df-container {\n",
              "      display:flex;\n",
              "      flex-wrap:wrap;\n",
              "      gap: 12px;\n",
              "    }\n",
              "\n",
              "    .colab-df-convert {\n",
              "      background-color: #E8F0FE;\n",
              "      border: none;\n",
              "      border-radius: 50%;\n",
              "      cursor: pointer;\n",
              "      display: none;\n",
              "      fill: #1967D2;\n",
              "      height: 32px;\n",
              "      padding: 0 0 0 0;\n",
              "      width: 32px;\n",
              "    }\n",
              "\n",
              "    .colab-df-convert:hover {\n",
              "      background-color: #E2EBFA;\n",
              "      box-shadow: 0px 1px 2px rgba(60, 64, 67, 0.3), 0px 1px 3px 1px rgba(60, 64, 67, 0.15);\n",
              "      fill: #174EA6;\n",
              "    }\n",
              "\n",
              "    [theme=dark] .colab-df-convert {\n",
              "      background-color: #3B4455;\n",
              "      fill: #D2E3FC;\n",
              "    }\n",
              "\n",
              "    [theme=dark] .colab-df-convert:hover {\n",
              "      background-color: #434B5C;\n",
              "      box-shadow: 0px 1px 3px 1px rgba(0, 0, 0, 0.15);\n",
              "      filter: drop-shadow(0px 1px 2px rgba(0, 0, 0, 0.3));\n",
              "      fill: #FFFFFF;\n",
              "    }\n",
              "  </style>\n",
              "\n",
              "      <script>\n",
              "        const buttonEl =\n",
              "          document.querySelector('#df-7b3ffb69-1668-4aeb-bfbf-2e9679c9a250 button.colab-df-convert');\n",
              "        buttonEl.style.display =\n",
              "          google.colab.kernel.accessAllowed ? 'block' : 'none';\n",
              "\n",
              "        async function convertToInteractive(key) {\n",
              "          const element = document.querySelector('#df-7b3ffb69-1668-4aeb-bfbf-2e9679c9a250');\n",
              "          const dataTable =\n",
              "            await google.colab.kernel.invokeFunction('convertToInteractive',\n",
              "                                                     [key], {});\n",
              "          if (!dataTable) return;\n",
              "\n",
              "          const docLinkHtml = 'Like what you see? Visit the ' +\n",
              "            '<a target=\"_blank\" href=https://colab.research.google.com/notebooks/data_table.ipynb>data table notebook</a>'\n",
              "            + ' to learn more about interactive tables.';\n",
              "          element.innerHTML = '';\n",
              "          dataTable['output_type'] = 'display_data';\n",
              "          await google.colab.output.renderOutput(dataTable, element);\n",
              "          const docLink = document.createElement('div');\n",
              "          docLink.innerHTML = docLinkHtml;\n",
              "          element.appendChild(docLink);\n",
              "        }\n",
              "      </script>\n",
              "    </div>\n",
              "  </div>\n",
              "  "
            ],
            "text/plain": [
              "    # de Clusters  Score Silhouette  Score Calinski-Harabasz  \\\n",
              "0               2          0.556930              6883.177403   \n",
              "1               3          0.494300              7804.871258   \n",
              "2               4          0.453048              8354.366797   \n",
              "3               5          0.416097              8050.534269   \n",
              "4               6          0.376949              7730.746845   \n",
              "5               7          0.369911              7484.960676   \n",
              "6               8          0.383190              7407.004439   \n",
              "7               9          0.375350              7361.747425   \n",
              "8              10          0.374500              7273.677424   \n",
              "9              11          0.364826              7195.612094   \n",
              "10             12          0.366040              7115.166316   \n",
              "11             13          0.363367              7065.993210   \n",
              "12             14          0.363545              7064.014912   \n",
              "\n",
              "    Score Davies-Bouldin  \n",
              "0               0.640382  \n",
              "1               0.663084  \n",
              "2               0.710059  \n",
              "3               0.775668  \n",
              "4               0.844301  \n",
              "5               0.862770  \n",
              "6               0.838611  \n",
              "7               0.846336  \n",
              "8               0.855803  \n",
              "9               0.833930  \n",
              "10              0.831416  \n",
              "11              0.842432  \n",
              "12              0.818930  "
            ]
          },
          "execution_count": null,
          "metadata": {},
          "output_type": "execute_result"
        }
      ],
      "source": [
        "metricas_ipca.head(14)"
      ]
    },
    {
      "cell_type": "code",
      "execution_count": null,
      "metadata": {
        "colab": {
          "background_save": true
        },
        "id": "241ZQpF5iZ--",
        "outputId": "9ee84010-8d36-4611-90d6-39b79727839f"
      },
      "outputs": [
        {
          "data": {
            "text/html": [
              "\n",
              "  <div id=\"df-c78022cf-0020-40e6-aff6-89e1476ce7f7\">\n",
              "    <div class=\"colab-df-container\">\n",
              "      <div>\n",
              "<style scoped>\n",
              "    .dataframe tbody tr th:only-of-type {\n",
              "        vertical-align: middle;\n",
              "    }\n",
              "\n",
              "    .dataframe tbody tr th {\n",
              "        vertical-align: top;\n",
              "    }\n",
              "\n",
              "    .dataframe thead th {\n",
              "        text-align: right;\n",
              "    }\n",
              "</style>\n",
              "<table border=\"1\" class=\"dataframe\">\n",
              "  <thead>\n",
              "    <tr style=\"text-align: right;\">\n",
              "      <th></th>\n",
              "      <th># de Clusters</th>\n",
              "      <th>Score Silhouette</th>\n",
              "      <th>Score Calinski-Harabasz</th>\n",
              "      <th>Score Davies-Bouldin</th>\n",
              "    </tr>\n",
              "  </thead>\n",
              "  <tbody>\n",
              "    <tr>\n",
              "      <th>0</th>\n",
              "      <td>2</td>\n",
              "      <td>0.427076</td>\n",
              "      <td>3240.109402</td>\n",
              "      <td>0.957164</td>\n",
              "    </tr>\n",
              "    <tr>\n",
              "      <th>1</th>\n",
              "      <td>3</td>\n",
              "      <td>0.438608</td>\n",
              "      <td>3891.473542</td>\n",
              "      <td>0.804450</td>\n",
              "    </tr>\n",
              "    <tr>\n",
              "      <th>2</th>\n",
              "      <td>4</td>\n",
              "      <td>0.445198</td>\n",
              "      <td>4136.327121</td>\n",
              "      <td>0.751894</td>\n",
              "    </tr>\n",
              "    <tr>\n",
              "      <th>3</th>\n",
              "      <td>5</td>\n",
              "      <td>0.457785</td>\n",
              "      <td>4926.404576</td>\n",
              "      <td>0.724363</td>\n",
              "    </tr>\n",
              "    <tr>\n",
              "      <th>4</th>\n",
              "      <td>6</td>\n",
              "      <td>0.463517</td>\n",
              "      <td>4814.685796</td>\n",
              "      <td>0.752439</td>\n",
              "    </tr>\n",
              "    <tr>\n",
              "      <th>5</th>\n",
              "      <td>7</td>\n",
              "      <td>0.458161</td>\n",
              "      <td>4835.658818</td>\n",
              "      <td>0.719331</td>\n",
              "    </tr>\n",
              "    <tr>\n",
              "      <th>6</th>\n",
              "      <td>8</td>\n",
              "      <td>0.432235</td>\n",
              "      <td>5068.054530</td>\n",
              "      <td>0.762736</td>\n",
              "    </tr>\n",
              "    <tr>\n",
              "      <th>7</th>\n",
              "      <td>9</td>\n",
              "      <td>0.445333</td>\n",
              "      <td>5283.283916</td>\n",
              "      <td>0.706295</td>\n",
              "    </tr>\n",
              "    <tr>\n",
              "      <th>8</th>\n",
              "      <td>10</td>\n",
              "      <td>0.435837</td>\n",
              "      <td>5465.492730</td>\n",
              "      <td>0.742554</td>\n",
              "    </tr>\n",
              "    <tr>\n",
              "      <th>9</th>\n",
              "      <td>11</td>\n",
              "      <td>0.437748</td>\n",
              "      <td>5615.190176</td>\n",
              "      <td>0.744589</td>\n",
              "    </tr>\n",
              "    <tr>\n",
              "      <th>10</th>\n",
              "      <td>12</td>\n",
              "      <td>0.421436</td>\n",
              "      <td>5619.360754</td>\n",
              "      <td>0.786850</td>\n",
              "    </tr>\n",
              "    <tr>\n",
              "      <th>11</th>\n",
              "      <td>13</td>\n",
              "      <td>0.420962</td>\n",
              "      <td>5539.424560</td>\n",
              "      <td>0.782800</td>\n",
              "    </tr>\n",
              "    <tr>\n",
              "      <th>12</th>\n",
              "      <td>14</td>\n",
              "      <td>0.413594</td>\n",
              "      <td>5612.808434</td>\n",
              "      <td>0.830164</td>\n",
              "    </tr>\n",
              "  </tbody>\n",
              "</table>\n",
              "</div>\n",
              "      <button class=\"colab-df-convert\" onclick=\"convertToInteractive('df-c78022cf-0020-40e6-aff6-89e1476ce7f7')\"\n",
              "              title=\"Convert this dataframe to an interactive table.\"\n",
              "              style=\"display:none;\">\n",
              "        \n",
              "  <svg xmlns=\"http://www.w3.org/2000/svg\" height=\"24px\"viewBox=\"0 0 24 24\"\n",
              "       width=\"24px\">\n",
              "    <path d=\"M0 0h24v24H0V0z\" fill=\"none\"/>\n",
              "    <path d=\"M18.56 5.44l.94 2.06.94-2.06 2.06-.94-2.06-.94-.94-2.06-.94 2.06-2.06.94zm-11 1L8.5 8.5l.94-2.06 2.06-.94-2.06-.94L8.5 2.5l-.94 2.06-2.06.94zm10 10l.94 2.06.94-2.06 2.06-.94-2.06-.94-.94-2.06-.94 2.06-2.06.94z\"/><path d=\"M17.41 7.96l-1.37-1.37c-.4-.4-.92-.59-1.43-.59-.52 0-1.04.2-1.43.59L10.3 9.45l-7.72 7.72c-.78.78-.78 2.05 0 2.83L4 21.41c.39.39.9.59 1.41.59.51 0 1.02-.2 1.41-.59l7.78-7.78 2.81-2.81c.8-.78.8-2.07 0-2.86zM5.41 20L4 18.59l7.72-7.72 1.47 1.35L5.41 20z\"/>\n",
              "  </svg>\n",
              "      </button>\n",
              "      \n",
              "  <style>\n",
              "    .colab-df-container {\n",
              "      display:flex;\n",
              "      flex-wrap:wrap;\n",
              "      gap: 12px;\n",
              "    }\n",
              "\n",
              "    .colab-df-convert {\n",
              "      background-color: #E8F0FE;\n",
              "      border: none;\n",
              "      border-radius: 50%;\n",
              "      cursor: pointer;\n",
              "      display: none;\n",
              "      fill: #1967D2;\n",
              "      height: 32px;\n",
              "      padding: 0 0 0 0;\n",
              "      width: 32px;\n",
              "    }\n",
              "\n",
              "    .colab-df-convert:hover {\n",
              "      background-color: #E2EBFA;\n",
              "      box-shadow: 0px 1px 2px rgba(60, 64, 67, 0.3), 0px 1px 3px 1px rgba(60, 64, 67, 0.15);\n",
              "      fill: #174EA6;\n",
              "    }\n",
              "\n",
              "    [theme=dark] .colab-df-convert {\n",
              "      background-color: #3B4455;\n",
              "      fill: #D2E3FC;\n",
              "    }\n",
              "\n",
              "    [theme=dark] .colab-df-convert:hover {\n",
              "      background-color: #434B5C;\n",
              "      box-shadow: 0px 1px 3px 1px rgba(0, 0, 0, 0.15);\n",
              "      filter: drop-shadow(0px 1px 2px rgba(0, 0, 0, 0.3));\n",
              "      fill: #FFFFFF;\n",
              "    }\n",
              "  </style>\n",
              "\n",
              "      <script>\n",
              "        const buttonEl =\n",
              "          document.querySelector('#df-c78022cf-0020-40e6-aff6-89e1476ce7f7 button.colab-df-convert');\n",
              "        buttonEl.style.display =\n",
              "          google.colab.kernel.accessAllowed ? 'block' : 'none';\n",
              "\n",
              "        async function convertToInteractive(key) {\n",
              "          const element = document.querySelector('#df-c78022cf-0020-40e6-aff6-89e1476ce7f7');\n",
              "          const dataTable =\n",
              "            await google.colab.kernel.invokeFunction('convertToInteractive',\n",
              "                                                     [key], {});\n",
              "          if (!dataTable) return;\n",
              "\n",
              "          const docLinkHtml = 'Like what you see? Visit the ' +\n",
              "            '<a target=\"_blank\" href=https://colab.research.google.com/notebooks/data_table.ipynb>data table notebook</a>'\n",
              "            + ' to learn more about interactive tables.';\n",
              "          element.innerHTML = '';\n",
              "          dataTable['output_type'] = 'display_data';\n",
              "          await google.colab.output.renderOutput(dataTable, element);\n",
              "          const docLink = document.createElement('div');\n",
              "          docLink.innerHTML = docLinkHtml;\n",
              "          element.appendChild(docLink);\n",
              "        }\n",
              "      </script>\n",
              "    </div>\n",
              "  </div>\n",
              "  "
            ],
            "text/plain": [
              "    # de Clusters  Score Silhouette  Score Calinski-Harabasz  \\\n",
              "0               2          0.427076              3240.109402   \n",
              "1               3          0.438608              3891.473542   \n",
              "2               4          0.445198              4136.327121   \n",
              "3               5          0.457785              4926.404576   \n",
              "4               6          0.463517              4814.685796   \n",
              "5               7          0.458161              4835.658818   \n",
              "6               8          0.432235              5068.054530   \n",
              "7               9          0.445333              5283.283916   \n",
              "8              10          0.435837              5465.492730   \n",
              "9              11          0.437748              5615.190176   \n",
              "10             12          0.421436              5619.360754   \n",
              "11             13          0.420962              5539.424560   \n",
              "12             14          0.413594              5612.808434   \n",
              "\n",
              "    Score Davies-Bouldin  \n",
              "0               0.957164  \n",
              "1               0.804450  \n",
              "2               0.751894  \n",
              "3               0.724363  \n",
              "4               0.752439  \n",
              "5               0.719331  \n",
              "6               0.762736  \n",
              "7               0.706295  \n",
              "8               0.742554  \n",
              "9               0.744589  \n",
              "10              0.786850  \n",
              "11              0.782800  \n",
              "12              0.830164  "
            ]
          },
          "execution_count": null,
          "metadata": {},
          "output_type": "execute_result"
        }
      ],
      "source": [
        "metricas_tsne"
      ]
    },
    {
      "cell_type": "code",
      "execution_count": null,
      "metadata": {
        "colab": {
          "background_save": true
        },
        "id": "sIbKWtu8g9MX"
      },
      "outputs": [],
      "source": [
        "nombre_metricas=['Silhouette','Calinski-Harabasz','Davies-Bouldin']\n",
        "clusters_kmeans=[2,2,2]\n",
        "clusters_hclust=[2,2,2]\n",
        "clusters_pca=[2,4,2]\n",
        "clusters_ipca=[2,4,2]\n",
        "clusters_tsne=[6,9,9]\n",
        "\n",
        "data = {'Métrica': nombre_metricas, 'K-Means': clusters_kmeans, 'Jerarquico':clusters_hclust, 'PCA':clusters_pca, 'PCA Incremental':clusters_ipca,'TSNE':clusters_tsne}\n",
        "metricas_resumen = pd.DataFrame(data=data)"
      ]
    },
    {
      "cell_type": "code",
      "execution_count": null,
      "metadata": {
        "colab": {
          "background_save": true
        },
        "id": "NiK4pxE3eeyu"
      },
      "outputs": [],
      "source": [
        "nombre_metricas=['Silhouette','Calinski-Harabasz','Davies-Bouldin']\n",
        "clusters_kmeans=[metricas_kmeans['Score Silhouette'].max(),metricas_kmeans['Score Calinski-Harabasz'].max(),metricas_kmeans['Score Davies-Bouldin'].min()]\n",
        "clusters_hclust=[metricas_hclust['Score Silhouette'].max(),metricas_hclust['Score Calinski-Harabasz'].max(),metricas_hclust['Score Davies-Bouldin'].min()]\n",
        "clusters_pca=[metricas_pca['Score Silhouette'].max(),metricas_pca['Score Calinski-Harabasz'].max(),metricas_pca['Score Davies-Bouldin'].min()]\n",
        "clusters_ipca=[metricas_ipca['Score Silhouette'].max(),metricas_ipca['Score Calinski-Harabasz'].max(),metricas_ipca['Score Davies-Bouldin'].min()]\n",
        "clusters_tsne=[metricas_tsne['Score Silhouette'].max(),metricas_tsne['Score Calinski-Harabasz'].max(),metricas_tsne['Score Davies-Bouldin'].min()]\n",
        "\n",
        "data = {'Métrica': nombre_metricas, 'K-Means': clusters_kmeans, 'Jerarquico':clusters_hclust, 'PCA':clusters_pca, 'PCA Incremental':clusters_ipca, 'TSNE':clusters_tsne}\n",
        "metricas_score = pd.DataFrame(data=data)"
      ]
    },
    {
      "cell_type": "code",
      "execution_count": null,
      "metadata": {
        "colab": {
          "background_save": true,
          "base_uri": "https://localhost:8080/",
          "height": 144
        },
        "id": "u9U8JBZ2kBXY",
        "outputId": "00dbaa22-b43c-4306-a8d6-0a4a4dcc1145"
      },
      "outputs": [
        {
          "data": {
            "text/html": [
              "\n",
              "  <div id=\"df-f63bc758-2c08-41f4-a708-0e053732c129\">\n",
              "    <div class=\"colab-df-container\">\n",
              "      <div>\n",
              "<style scoped>\n",
              "    .dataframe tbody tr th:only-of-type {\n",
              "        vertical-align: middle;\n",
              "    }\n",
              "\n",
              "    .dataframe tbody tr th {\n",
              "        vertical-align: top;\n",
              "    }\n",
              "\n",
              "    .dataframe thead th {\n",
              "        text-align: right;\n",
              "    }\n",
              "</style>\n",
              "<table border=\"1\" class=\"dataframe\">\n",
              "  <thead>\n",
              "    <tr style=\"text-align: right;\">\n",
              "      <th></th>\n",
              "      <th>Métrica</th>\n",
              "      <th>K-Means</th>\n",
              "      <th>Jerarquico</th>\n",
              "      <th>PCA</th>\n",
              "      <th>PCA Incremental</th>\n",
              "      <th>TSNE</th>\n",
              "    </tr>\n",
              "  </thead>\n",
              "  <tbody>\n",
              "    <tr>\n",
              "      <th>0</th>\n",
              "      <td>Silhouette</td>\n",
              "      <td>0.491766</td>\n",
              "      <td>0.451575</td>\n",
              "      <td>0.556749</td>\n",
              "      <td>0.556930</td>\n",
              "      <td>0.463517</td>\n",
              "    </tr>\n",
              "    <tr>\n",
              "      <th>1</th>\n",
              "      <td>Calinski-Harabasz</td>\n",
              "      <td>5042.164551</td>\n",
              "      <td>4473.200085</td>\n",
              "      <td>8277.932155</td>\n",
              "      <td>8354.366797</td>\n",
              "      <td>5619.360754</td>\n",
              "    </tr>\n",
              "    <tr>\n",
              "      <th>2</th>\n",
              "      <td>Davies-Bouldin</td>\n",
              "      <td>0.768223</td>\n",
              "      <td>0.810871</td>\n",
              "      <td>0.639972</td>\n",
              "      <td>0.640382</td>\n",
              "      <td>0.706295</td>\n",
              "    </tr>\n",
              "  </tbody>\n",
              "</table>\n",
              "</div>\n",
              "      <button class=\"colab-df-convert\" onclick=\"convertToInteractive('df-f63bc758-2c08-41f4-a708-0e053732c129')\"\n",
              "              title=\"Convert this dataframe to an interactive table.\"\n",
              "              style=\"display:none;\">\n",
              "        \n",
              "  <svg xmlns=\"http://www.w3.org/2000/svg\" height=\"24px\"viewBox=\"0 0 24 24\"\n",
              "       width=\"24px\">\n",
              "    <path d=\"M0 0h24v24H0V0z\" fill=\"none\"/>\n",
              "    <path d=\"M18.56 5.44l.94 2.06.94-2.06 2.06-.94-2.06-.94-.94-2.06-.94 2.06-2.06.94zm-11 1L8.5 8.5l.94-2.06 2.06-.94-2.06-.94L8.5 2.5l-.94 2.06-2.06.94zm10 10l.94 2.06.94-2.06 2.06-.94-2.06-.94-.94-2.06-.94 2.06-2.06.94z\"/><path d=\"M17.41 7.96l-1.37-1.37c-.4-.4-.92-.59-1.43-.59-.52 0-1.04.2-1.43.59L10.3 9.45l-7.72 7.72c-.78.78-.78 2.05 0 2.83L4 21.41c.39.39.9.59 1.41.59.51 0 1.02-.2 1.41-.59l7.78-7.78 2.81-2.81c.8-.78.8-2.07 0-2.86zM5.41 20L4 18.59l7.72-7.72 1.47 1.35L5.41 20z\"/>\n",
              "  </svg>\n",
              "      </button>\n",
              "      \n",
              "  <style>\n",
              "    .colab-df-container {\n",
              "      display:flex;\n",
              "      flex-wrap:wrap;\n",
              "      gap: 12px;\n",
              "    }\n",
              "\n",
              "    .colab-df-convert {\n",
              "      background-color: #E8F0FE;\n",
              "      border: none;\n",
              "      border-radius: 50%;\n",
              "      cursor: pointer;\n",
              "      display: none;\n",
              "      fill: #1967D2;\n",
              "      height: 32px;\n",
              "      padding: 0 0 0 0;\n",
              "      width: 32px;\n",
              "    }\n",
              "\n",
              "    .colab-df-convert:hover {\n",
              "      background-color: #E2EBFA;\n",
              "      box-shadow: 0px 1px 2px rgba(60, 64, 67, 0.3), 0px 1px 3px 1px rgba(60, 64, 67, 0.15);\n",
              "      fill: #174EA6;\n",
              "    }\n",
              "\n",
              "    [theme=dark] .colab-df-convert {\n",
              "      background-color: #3B4455;\n",
              "      fill: #D2E3FC;\n",
              "    }\n",
              "\n",
              "    [theme=dark] .colab-df-convert:hover {\n",
              "      background-color: #434B5C;\n",
              "      box-shadow: 0px 1px 3px 1px rgba(0, 0, 0, 0.15);\n",
              "      filter: drop-shadow(0px 1px 2px rgba(0, 0, 0, 0.3));\n",
              "      fill: #FFFFFF;\n",
              "    }\n",
              "  </style>\n",
              "\n",
              "      <script>\n",
              "        const buttonEl =\n",
              "          document.querySelector('#df-f63bc758-2c08-41f4-a708-0e053732c129 button.colab-df-convert');\n",
              "        buttonEl.style.display =\n",
              "          google.colab.kernel.accessAllowed ? 'block' : 'none';\n",
              "\n",
              "        async function convertToInteractive(key) {\n",
              "          const element = document.querySelector('#df-f63bc758-2c08-41f4-a708-0e053732c129');\n",
              "          const dataTable =\n",
              "            await google.colab.kernel.invokeFunction('convertToInteractive',\n",
              "                                                     [key], {});\n",
              "          if (!dataTable) return;\n",
              "\n",
              "          const docLinkHtml = 'Like what you see? Visit the ' +\n",
              "            '<a target=\"_blank\" href=https://colab.research.google.com/notebooks/data_table.ipynb>data table notebook</a>'\n",
              "            + ' to learn more about interactive tables.';\n",
              "          element.innerHTML = '';\n",
              "          dataTable['output_type'] = 'display_data';\n",
              "          await google.colab.output.renderOutput(dataTable, element);\n",
              "          const docLink = document.createElement('div');\n",
              "          docLink.innerHTML = docLinkHtml;\n",
              "          element.appendChild(docLink);\n",
              "        }\n",
              "      </script>\n",
              "    </div>\n",
              "  </div>\n",
              "  "
            ],
            "text/plain": [
              "             Métrica      K-Means   Jerarquico          PCA  PCA Incremental  \\\n",
              "0         Silhouette     0.491766     0.451575     0.556749         0.556930   \n",
              "1  Calinski-Harabasz  5042.164551  4473.200085  8277.932155      8354.366797   \n",
              "2     Davies-Bouldin     0.768223     0.810871     0.639972         0.640382   \n",
              "\n",
              "          TSNE  \n",
              "0     0.463517  \n",
              "1  5619.360754  \n",
              "2     0.706295  "
            ]
          },
          "execution_count": null,
          "metadata": {},
          "output_type": "execute_result"
        }
      ],
      "source": [
        "metricas_score"
      ]
    },
    {
      "cell_type": "code",
      "execution_count": null,
      "metadata": {
        "colab": {
          "background_save": true,
          "base_uri": "https://localhost:8080/",
          "height": 144
        },
        "id": "N-agyaaag0Kc",
        "outputId": "e4c67e88-aa55-4d12-f2bd-9bd4c9072efe"
      },
      "outputs": [
        {
          "data": {
            "text/html": [
              "\n",
              "  <div id=\"df-27e3d3de-a9b4-4263-8c4f-9cca42188211\">\n",
              "    <div class=\"colab-df-container\">\n",
              "      <div>\n",
              "<style scoped>\n",
              "    .dataframe tbody tr th:only-of-type {\n",
              "        vertical-align: middle;\n",
              "    }\n",
              "\n",
              "    .dataframe tbody tr th {\n",
              "        vertical-align: top;\n",
              "    }\n",
              "\n",
              "    .dataframe thead th {\n",
              "        text-align: right;\n",
              "    }\n",
              "</style>\n",
              "<table border=\"1\" class=\"dataframe\">\n",
              "  <thead>\n",
              "    <tr style=\"text-align: right;\">\n",
              "      <th></th>\n",
              "      <th>Métrica</th>\n",
              "      <th>K-Means</th>\n",
              "      <th>Jerarquico</th>\n",
              "      <th>PCA</th>\n",
              "      <th>PCA Incremental</th>\n",
              "      <th>TSNE</th>\n",
              "    </tr>\n",
              "  </thead>\n",
              "  <tbody>\n",
              "    <tr>\n",
              "      <th>0</th>\n",
              "      <td>Silhouette</td>\n",
              "      <td>2</td>\n",
              "      <td>2</td>\n",
              "      <td>2</td>\n",
              "      <td>2</td>\n",
              "      <td>6</td>\n",
              "    </tr>\n",
              "    <tr>\n",
              "      <th>1</th>\n",
              "      <td>Calinski-Harabasz</td>\n",
              "      <td>2</td>\n",
              "      <td>2</td>\n",
              "      <td>4</td>\n",
              "      <td>4</td>\n",
              "      <td>9</td>\n",
              "    </tr>\n",
              "    <tr>\n",
              "      <th>2</th>\n",
              "      <td>Davies-Bouldin</td>\n",
              "      <td>2</td>\n",
              "      <td>2</td>\n",
              "      <td>2</td>\n",
              "      <td>2</td>\n",
              "      <td>9</td>\n",
              "    </tr>\n",
              "  </tbody>\n",
              "</table>\n",
              "</div>\n",
              "      <button class=\"colab-df-convert\" onclick=\"convertToInteractive('df-27e3d3de-a9b4-4263-8c4f-9cca42188211')\"\n",
              "              title=\"Convert this dataframe to an interactive table.\"\n",
              "              style=\"display:none;\">\n",
              "        \n",
              "  <svg xmlns=\"http://www.w3.org/2000/svg\" height=\"24px\"viewBox=\"0 0 24 24\"\n",
              "       width=\"24px\">\n",
              "    <path d=\"M0 0h24v24H0V0z\" fill=\"none\"/>\n",
              "    <path d=\"M18.56 5.44l.94 2.06.94-2.06 2.06-.94-2.06-.94-.94-2.06-.94 2.06-2.06.94zm-11 1L8.5 8.5l.94-2.06 2.06-.94-2.06-.94L8.5 2.5l-.94 2.06-2.06.94zm10 10l.94 2.06.94-2.06 2.06-.94-2.06-.94-.94-2.06-.94 2.06-2.06.94z\"/><path d=\"M17.41 7.96l-1.37-1.37c-.4-.4-.92-.59-1.43-.59-.52 0-1.04.2-1.43.59L10.3 9.45l-7.72 7.72c-.78.78-.78 2.05 0 2.83L4 21.41c.39.39.9.59 1.41.59.51 0 1.02-.2 1.41-.59l7.78-7.78 2.81-2.81c.8-.78.8-2.07 0-2.86zM5.41 20L4 18.59l7.72-7.72 1.47 1.35L5.41 20z\"/>\n",
              "  </svg>\n",
              "      </button>\n",
              "      \n",
              "  <style>\n",
              "    .colab-df-container {\n",
              "      display:flex;\n",
              "      flex-wrap:wrap;\n",
              "      gap: 12px;\n",
              "    }\n",
              "\n",
              "    .colab-df-convert {\n",
              "      background-color: #E8F0FE;\n",
              "      border: none;\n",
              "      border-radius: 50%;\n",
              "      cursor: pointer;\n",
              "      display: none;\n",
              "      fill: #1967D2;\n",
              "      height: 32px;\n",
              "      padding: 0 0 0 0;\n",
              "      width: 32px;\n",
              "    }\n",
              "\n",
              "    .colab-df-convert:hover {\n",
              "      background-color: #E2EBFA;\n",
              "      box-shadow: 0px 1px 2px rgba(60, 64, 67, 0.3), 0px 1px 3px 1px rgba(60, 64, 67, 0.15);\n",
              "      fill: #174EA6;\n",
              "    }\n",
              "\n",
              "    [theme=dark] .colab-df-convert {\n",
              "      background-color: #3B4455;\n",
              "      fill: #D2E3FC;\n",
              "    }\n",
              "\n",
              "    [theme=dark] .colab-df-convert:hover {\n",
              "      background-color: #434B5C;\n",
              "      box-shadow: 0px 1px 3px 1px rgba(0, 0, 0, 0.15);\n",
              "      filter: drop-shadow(0px 1px 2px rgba(0, 0, 0, 0.3));\n",
              "      fill: #FFFFFF;\n",
              "    }\n",
              "  </style>\n",
              "\n",
              "      <script>\n",
              "        const buttonEl =\n",
              "          document.querySelector('#df-27e3d3de-a9b4-4263-8c4f-9cca42188211 button.colab-df-convert');\n",
              "        buttonEl.style.display =\n",
              "          google.colab.kernel.accessAllowed ? 'block' : 'none';\n",
              "\n",
              "        async function convertToInteractive(key) {\n",
              "          const element = document.querySelector('#df-27e3d3de-a9b4-4263-8c4f-9cca42188211');\n",
              "          const dataTable =\n",
              "            await google.colab.kernel.invokeFunction('convertToInteractive',\n",
              "                                                     [key], {});\n",
              "          if (!dataTable) return;\n",
              "\n",
              "          const docLinkHtml = 'Like what you see? Visit the ' +\n",
              "            '<a target=\"_blank\" href=https://colab.research.google.com/notebooks/data_table.ipynb>data table notebook</a>'\n",
              "            + ' to learn more about interactive tables.';\n",
              "          element.innerHTML = '';\n",
              "          dataTable['output_type'] = 'display_data';\n",
              "          await google.colab.output.renderOutput(dataTable, element);\n",
              "          const docLink = document.createElement('div');\n",
              "          docLink.innerHTML = docLinkHtml;\n",
              "          element.appendChild(docLink);\n",
              "        }\n",
              "      </script>\n",
              "    </div>\n",
              "  </div>\n",
              "  "
            ],
            "text/plain": [
              "             Métrica  K-Means  Jerarquico  PCA  PCA Incremental  TSNE\n",
              "0         Silhouette        2           2    2                2     6\n",
              "1  Calinski-Harabasz        2           2    4                4     9\n",
              "2     Davies-Bouldin        2           2    2                2     9"
            ]
          },
          "execution_count": null,
          "metadata": {},
          "output_type": "execute_result"
        }
      ],
      "source": [
        "metricas_resumen"
      ]
    },
    {
      "cell_type": "markdown",
      "metadata": {
        "id": "xwNmn_yacwxh"
      },
      "source": [
        "##Justificación del método y número de clusters Escogido\n",
        "\n",
        " \n",
        "\n",
        "1.   Se escogió una combinación de métodos, aplicando primero reducción de dimensionalidad con PCA Incremental y luego el método K-Means\n",
        "2.   El número de clusters seleccionados es de 2\n",
        "\n"
      ]
    },
    {
      "cell_type": "markdown",
      "metadata": {
        "id": "Pd7ghzpRc-a_"
      },
      "source": [
        "##Generación de vector de clases y dataset final para exportar\n",
        "\n",
        "\n",
        "\n"
      ]
    },
    {
      "cell_type": "code",
      "execution_count": null,
      "metadata": {
        "colab": {
          "background_save": true,
          "base_uri": "https://localhost:8080/"
        },
        "id": "UzWisiINcwHr",
        "outputId": "aa0990e7-c6be-4f0c-ec60-a7751c899139"
      },
      "outputs": [
        {
          "data": {
            "text/plain": [
              "array([1, 1, 0, ..., 1, 0, 0], dtype=int32)"
            ]
          },
          "execution_count": null,
          "metadata": {},
          "output_type": "execute_result"
        }
      ],
      "source": [
        "clases=clases_ipca[0]\n",
        "clases"
      ]
    },
    {
      "cell_type": "code",
      "execution_count": null,
      "metadata": {
        "colab": {
          "background_save": true
        },
        "id": "xNUhYEV7eZ7O"
      },
      "outputs": [],
      "source": [
        "dDum['Clases']=clases"
      ]
    },
    {
      "cell_type": "code",
      "execution_count": null,
      "metadata": {
        "colab": {
          "background_save": true,
          "base_uri": "https://localhost:8080/",
          "height": 661
        },
        "id": "5pYBXlhkhfNW",
        "outputId": "e2e91dda-4b77-4303-d072-de525356613d"
      },
      "outputs": [
        {
          "data": {
            "text/html": [
              "\n",
              "  <div id=\"df-614eaf6c-e5d4-4d98-bcc1-1d4554e1774e\">\n",
              "    <div class=\"colab-df-container\">\n",
              "      <div>\n",
              "<style scoped>\n",
              "    .dataframe tbody tr th:only-of-type {\n",
              "        vertical-align: middle;\n",
              "    }\n",
              "\n",
              "    .dataframe tbody tr th {\n",
              "        vertical-align: top;\n",
              "    }\n",
              "\n",
              "    .dataframe thead th {\n",
              "        text-align: right;\n",
              "    }\n",
              "</style>\n",
              "<table border=\"1\" class=\"dataframe\">\n",
              "  <thead>\n",
              "    <tr style=\"text-align: right;\">\n",
              "      <th></th>\n",
              "      <th>Edad en Meses</th>\n",
              "      <th>Meses Lactancia Materna Exclusiva</th>\n",
              "      <th>Meses Lactancia Materna Total</th>\n",
              "      <th>Peso</th>\n",
              "      <th>Talla</th>\n",
              "      <th>Sisben</th>\n",
              "      <th>Nombre del Servicio_DESARROLLO INFANTIL EN MEDIO FAMILIAR SIN ARRIENDO - FAMILIAR</th>\n",
              "      <th>Nombre del Servicio_HOGARES INFANTILES - INSTITUCIONAL</th>\n",
              "      <th>Tipo Documento Beneficiario_SIN DOCUMENTO</th>\n",
              "      <th>Sexo_Mujer</th>\n",
              "      <th>...</th>\n",
              "      <th>Estado IMC_sobrepeso</th>\n",
              "      <th>¿En el sistema general de seguridad social en salud usted es?_AFILIADO REGIMEN ESPECIAL</th>\n",
              "      <th>¿En el sistema general de seguridad social en salud usted es?_AFILIADO REGIMEN SUBSIDIADO</th>\n",
              "      <th>¿En el sistema general de seguridad social en salud usted es?_NO AFILIADO(A)</th>\n",
              "      <th>¿El beneficiario cuenta con el carnet de vacunación?_S</th>\n",
              "      <th>¿El carnet de vacunación se encuentra al día en las vacunas y dosis que corresponden a la edad del niño o niña?_SI</th>\n",
              "      <th>El beneficiario cuenta con Carnet de Crecimiento y Desarrollo_SI</th>\n",
              "      <th>Estado_VINCULADO</th>\n",
              "      <th>Talla inferior última toma_SI</th>\n",
              "      <th>Clases</th>\n",
              "    </tr>\n",
              "  </thead>\n",
              "  <tbody>\n",
              "    <tr>\n",
              "      <th>0</th>\n",
              "      <td>12</td>\n",
              "      <td>7</td>\n",
              "      <td>7</td>\n",
              "      <td>10.0</td>\n",
              "      <td>73.0</td>\n",
              "      <td>4.0</td>\n",
              "      <td>1</td>\n",
              "      <td>0</td>\n",
              "      <td>0</td>\n",
              "      <td>1</td>\n",
              "      <td>...</td>\n",
              "      <td>0</td>\n",
              "      <td>0</td>\n",
              "      <td>1</td>\n",
              "      <td>0</td>\n",
              "      <td>1</td>\n",
              "      <td>1</td>\n",
              "      <td>1</td>\n",
              "      <td>1</td>\n",
              "      <td>0</td>\n",
              "      <td>1</td>\n",
              "    </tr>\n",
              "    <tr>\n",
              "      <th>1</th>\n",
              "      <td>1</td>\n",
              "      <td>1</td>\n",
              "      <td>1</td>\n",
              "      <td>6.2</td>\n",
              "      <td>58.0</td>\n",
              "      <td>1.0</td>\n",
              "      <td>1</td>\n",
              "      <td>0</td>\n",
              "      <td>1</td>\n",
              "      <td>0</td>\n",
              "      <td>...</td>\n",
              "      <td>0</td>\n",
              "      <td>0</td>\n",
              "      <td>0</td>\n",
              "      <td>1</td>\n",
              "      <td>1</td>\n",
              "      <td>0</td>\n",
              "      <td>0</td>\n",
              "      <td>1</td>\n",
              "      <td>0</td>\n",
              "      <td>1</td>\n",
              "    </tr>\n",
              "    <tr>\n",
              "      <th>2</th>\n",
              "      <td>58</td>\n",
              "      <td>6</td>\n",
              "      <td>18</td>\n",
              "      <td>14.3</td>\n",
              "      <td>99.6</td>\n",
              "      <td>1.0</td>\n",
              "      <td>0</td>\n",
              "      <td>0</td>\n",
              "      <td>1</td>\n",
              "      <td>0</td>\n",
              "      <td>...</td>\n",
              "      <td>0</td>\n",
              "      <td>0</td>\n",
              "      <td>0</td>\n",
              "      <td>1</td>\n",
              "      <td>1</td>\n",
              "      <td>1</td>\n",
              "      <td>1</td>\n",
              "      <td>1</td>\n",
              "      <td>0</td>\n",
              "      <td>0</td>\n",
              "    </tr>\n",
              "    <tr>\n",
              "      <th>3</th>\n",
              "      <td>61</td>\n",
              "      <td>6</td>\n",
              "      <td>18</td>\n",
              "      <td>15.5</td>\n",
              "      <td>102.1</td>\n",
              "      <td>1.0</td>\n",
              "      <td>0</td>\n",
              "      <td>0</td>\n",
              "      <td>1</td>\n",
              "      <td>0</td>\n",
              "      <td>...</td>\n",
              "      <td>0</td>\n",
              "      <td>0</td>\n",
              "      <td>0</td>\n",
              "      <td>1</td>\n",
              "      <td>1</td>\n",
              "      <td>1</td>\n",
              "      <td>1</td>\n",
              "      <td>1</td>\n",
              "      <td>0</td>\n",
              "      <td>0</td>\n",
              "    </tr>\n",
              "    <tr>\n",
              "      <th>4</th>\n",
              "      <td>0</td>\n",
              "      <td>0</td>\n",
              "      <td>0</td>\n",
              "      <td>3.8</td>\n",
              "      <td>50.0</td>\n",
              "      <td>1.0</td>\n",
              "      <td>1</td>\n",
              "      <td>0</td>\n",
              "      <td>1</td>\n",
              "      <td>1</td>\n",
              "      <td>...</td>\n",
              "      <td>0</td>\n",
              "      <td>0</td>\n",
              "      <td>0</td>\n",
              "      <td>1</td>\n",
              "      <td>1</td>\n",
              "      <td>1</td>\n",
              "      <td>0</td>\n",
              "      <td>1</td>\n",
              "      <td>0</td>\n",
              "      <td>1</td>\n",
              "    </tr>\n",
              "    <tr>\n",
              "      <th>...</th>\n",
              "      <td>...</td>\n",
              "      <td>...</td>\n",
              "      <td>...</td>\n",
              "      <td>...</td>\n",
              "      <td>...</td>\n",
              "      <td>...</td>\n",
              "      <td>...</td>\n",
              "      <td>...</td>\n",
              "      <td>...</td>\n",
              "      <td>...</td>\n",
              "      <td>...</td>\n",
              "      <td>...</td>\n",
              "      <td>...</td>\n",
              "      <td>...</td>\n",
              "      <td>...</td>\n",
              "      <td>...</td>\n",
              "      <td>...</td>\n",
              "      <td>...</td>\n",
              "      <td>...</td>\n",
              "      <td>...</td>\n",
              "      <td>...</td>\n",
              "    </tr>\n",
              "    <tr>\n",
              "      <th>3556</th>\n",
              "      <td>52</td>\n",
              "      <td>6</td>\n",
              "      <td>18</td>\n",
              "      <td>13.6</td>\n",
              "      <td>100.8</td>\n",
              "      <td>1.0</td>\n",
              "      <td>0</td>\n",
              "      <td>0</td>\n",
              "      <td>1</td>\n",
              "      <td>0</td>\n",
              "      <td>...</td>\n",
              "      <td>0</td>\n",
              "      <td>0</td>\n",
              "      <td>0</td>\n",
              "      <td>1</td>\n",
              "      <td>1</td>\n",
              "      <td>1</td>\n",
              "      <td>1</td>\n",
              "      <td>1</td>\n",
              "      <td>0</td>\n",
              "      <td>0</td>\n",
              "    </tr>\n",
              "    <tr>\n",
              "      <th>3557</th>\n",
              "      <td>56</td>\n",
              "      <td>6</td>\n",
              "      <td>18</td>\n",
              "      <td>14.6</td>\n",
              "      <td>102.5</td>\n",
              "      <td>1.0</td>\n",
              "      <td>0</td>\n",
              "      <td>0</td>\n",
              "      <td>1</td>\n",
              "      <td>0</td>\n",
              "      <td>...</td>\n",
              "      <td>0</td>\n",
              "      <td>0</td>\n",
              "      <td>0</td>\n",
              "      <td>1</td>\n",
              "      <td>1</td>\n",
              "      <td>1</td>\n",
              "      <td>1</td>\n",
              "      <td>1</td>\n",
              "      <td>0</td>\n",
              "      <td>0</td>\n",
              "    </tr>\n",
              "    <tr>\n",
              "      <th>3558</th>\n",
              "      <td>13</td>\n",
              "      <td>8</td>\n",
              "      <td>8</td>\n",
              "      <td>10.0</td>\n",
              "      <td>72.0</td>\n",
              "      <td>1.0</td>\n",
              "      <td>1</td>\n",
              "      <td>0</td>\n",
              "      <td>1</td>\n",
              "      <td>0</td>\n",
              "      <td>...</td>\n",
              "      <td>0</td>\n",
              "      <td>0</td>\n",
              "      <td>0</td>\n",
              "      <td>1</td>\n",
              "      <td>0</td>\n",
              "      <td>0</td>\n",
              "      <td>0</td>\n",
              "      <td>0</td>\n",
              "      <td>0</td>\n",
              "      <td>1</td>\n",
              "    </tr>\n",
              "    <tr>\n",
              "      <th>3559</th>\n",
              "      <td>53</td>\n",
              "      <td>6</td>\n",
              "      <td>14</td>\n",
              "      <td>15.0</td>\n",
              "      <td>101.0</td>\n",
              "      <td>1.0</td>\n",
              "      <td>0</td>\n",
              "      <td>1</td>\n",
              "      <td>1</td>\n",
              "      <td>1</td>\n",
              "      <td>...</td>\n",
              "      <td>0</td>\n",
              "      <td>0</td>\n",
              "      <td>0</td>\n",
              "      <td>1</td>\n",
              "      <td>1</td>\n",
              "      <td>1</td>\n",
              "      <td>1</td>\n",
              "      <td>1</td>\n",
              "      <td>0</td>\n",
              "      <td>0</td>\n",
              "    </tr>\n",
              "    <tr>\n",
              "      <th>3560</th>\n",
              "      <td>57</td>\n",
              "      <td>6</td>\n",
              "      <td>14</td>\n",
              "      <td>15.4</td>\n",
              "      <td>105.0</td>\n",
              "      <td>1.0</td>\n",
              "      <td>0</td>\n",
              "      <td>1</td>\n",
              "      <td>1</td>\n",
              "      <td>1</td>\n",
              "      <td>...</td>\n",
              "      <td>0</td>\n",
              "      <td>0</td>\n",
              "      <td>0</td>\n",
              "      <td>1</td>\n",
              "      <td>1</td>\n",
              "      <td>1</td>\n",
              "      <td>1</td>\n",
              "      <td>1</td>\n",
              "      <td>0</td>\n",
              "      <td>0</td>\n",
              "    </tr>\n",
              "  </tbody>\n",
              "</table>\n",
              "<p>3561 rows × 46 columns</p>\n",
              "</div>\n",
              "      <button class=\"colab-df-convert\" onclick=\"convertToInteractive('df-614eaf6c-e5d4-4d98-bcc1-1d4554e1774e')\"\n",
              "              title=\"Convert this dataframe to an interactive table.\"\n",
              "              style=\"display:none;\">\n",
              "        \n",
              "  <svg xmlns=\"http://www.w3.org/2000/svg\" height=\"24px\"viewBox=\"0 0 24 24\"\n",
              "       width=\"24px\">\n",
              "    <path d=\"M0 0h24v24H0V0z\" fill=\"none\"/>\n",
              "    <path d=\"M18.56 5.44l.94 2.06.94-2.06 2.06-.94-2.06-.94-.94-2.06-.94 2.06-2.06.94zm-11 1L8.5 8.5l.94-2.06 2.06-.94-2.06-.94L8.5 2.5l-.94 2.06-2.06.94zm10 10l.94 2.06.94-2.06 2.06-.94-2.06-.94-.94-2.06-.94 2.06-2.06.94z\"/><path d=\"M17.41 7.96l-1.37-1.37c-.4-.4-.92-.59-1.43-.59-.52 0-1.04.2-1.43.59L10.3 9.45l-7.72 7.72c-.78.78-.78 2.05 0 2.83L4 21.41c.39.39.9.59 1.41.59.51 0 1.02-.2 1.41-.59l7.78-7.78 2.81-2.81c.8-.78.8-2.07 0-2.86zM5.41 20L4 18.59l7.72-7.72 1.47 1.35L5.41 20z\"/>\n",
              "  </svg>\n",
              "      </button>\n",
              "      \n",
              "  <style>\n",
              "    .colab-df-container {\n",
              "      display:flex;\n",
              "      flex-wrap:wrap;\n",
              "      gap: 12px;\n",
              "    }\n",
              "\n",
              "    .colab-df-convert {\n",
              "      background-color: #E8F0FE;\n",
              "      border: none;\n",
              "      border-radius: 50%;\n",
              "      cursor: pointer;\n",
              "      display: none;\n",
              "      fill: #1967D2;\n",
              "      height: 32px;\n",
              "      padding: 0 0 0 0;\n",
              "      width: 32px;\n",
              "    }\n",
              "\n",
              "    .colab-df-convert:hover {\n",
              "      background-color: #E2EBFA;\n",
              "      box-shadow: 0px 1px 2px rgba(60, 64, 67, 0.3), 0px 1px 3px 1px rgba(60, 64, 67, 0.15);\n",
              "      fill: #174EA6;\n",
              "    }\n",
              "\n",
              "    [theme=dark] .colab-df-convert {\n",
              "      background-color: #3B4455;\n",
              "      fill: #D2E3FC;\n",
              "    }\n",
              "\n",
              "    [theme=dark] .colab-df-convert:hover {\n",
              "      background-color: #434B5C;\n",
              "      box-shadow: 0px 1px 3px 1px rgba(0, 0, 0, 0.15);\n",
              "      filter: drop-shadow(0px 1px 2px rgba(0, 0, 0, 0.3));\n",
              "      fill: #FFFFFF;\n",
              "    }\n",
              "  </style>\n",
              "\n",
              "      <script>\n",
              "        const buttonEl =\n",
              "          document.querySelector('#df-614eaf6c-e5d4-4d98-bcc1-1d4554e1774e button.colab-df-convert');\n",
              "        buttonEl.style.display =\n",
              "          google.colab.kernel.accessAllowed ? 'block' : 'none';\n",
              "\n",
              "        async function convertToInteractive(key) {\n",
              "          const element = document.querySelector('#df-614eaf6c-e5d4-4d98-bcc1-1d4554e1774e');\n",
              "          const dataTable =\n",
              "            await google.colab.kernel.invokeFunction('convertToInteractive',\n",
              "                                                     [key], {});\n",
              "          if (!dataTable) return;\n",
              "\n",
              "          const docLinkHtml = 'Like what you see? Visit the ' +\n",
              "            '<a target=\"_blank\" href=https://colab.research.google.com/notebooks/data_table.ipynb>data table notebook</a>'\n",
              "            + ' to learn more about interactive tables.';\n",
              "          element.innerHTML = '';\n",
              "          dataTable['output_type'] = 'display_data';\n",
              "          await google.colab.output.renderOutput(dataTable, element);\n",
              "          const docLink = document.createElement('div');\n",
              "          docLink.innerHTML = docLinkHtml;\n",
              "          element.appendChild(docLink);\n",
              "        }\n",
              "      </script>\n",
              "    </div>\n",
              "  </div>\n",
              "  "
            ],
            "text/plain": [
              "      Edad en Meses  Meses Lactancia Materna Exclusiva  \\\n",
              "0                12                                  7   \n",
              "1                 1                                  1   \n",
              "2                58                                  6   \n",
              "3                61                                  6   \n",
              "4                 0                                  0   \n",
              "...             ...                                ...   \n",
              "3556             52                                  6   \n",
              "3557             56                                  6   \n",
              "3558             13                                  8   \n",
              "3559             53                                  6   \n",
              "3560             57                                  6   \n",
              "\n",
              "      Meses Lactancia Materna Total  Peso  Talla  Sisben  \\\n",
              "0                                 7  10.0   73.0     4.0   \n",
              "1                                 1   6.2   58.0     1.0   \n",
              "2                                18  14.3   99.6     1.0   \n",
              "3                                18  15.5  102.1     1.0   \n",
              "4                                 0   3.8   50.0     1.0   \n",
              "...                             ...   ...    ...     ...   \n",
              "3556                             18  13.6  100.8     1.0   \n",
              "3557                             18  14.6  102.5     1.0   \n",
              "3558                              8  10.0   72.0     1.0   \n",
              "3559                             14  15.0  101.0     1.0   \n",
              "3560                             14  15.4  105.0     1.0   \n",
              "\n",
              "      Nombre del Servicio_DESARROLLO INFANTIL EN MEDIO FAMILIAR SIN ARRIENDO - FAMILIAR  \\\n",
              "0                                                     1                                   \n",
              "1                                                     1                                   \n",
              "2                                                     0                                   \n",
              "3                                                     0                                   \n",
              "4                                                     1                                   \n",
              "...                                                 ...                                   \n",
              "3556                                                  0                                   \n",
              "3557                                                  0                                   \n",
              "3558                                                  1                                   \n",
              "3559                                                  0                                   \n",
              "3560                                                  0                                   \n",
              "\n",
              "      Nombre del Servicio_HOGARES INFANTILES - INSTITUCIONAL  \\\n",
              "0                                                     0        \n",
              "1                                                     0        \n",
              "2                                                     0        \n",
              "3                                                     0        \n",
              "4                                                     0        \n",
              "...                                                 ...        \n",
              "3556                                                  0        \n",
              "3557                                                  0        \n",
              "3558                                                  0        \n",
              "3559                                                  1        \n",
              "3560                                                  1        \n",
              "\n",
              "      Tipo Documento Beneficiario_SIN DOCUMENTO  Sexo_Mujer  ...  \\\n",
              "0                                             0           1  ...   \n",
              "1                                             1           0  ...   \n",
              "2                                             1           0  ...   \n",
              "3                                             1           0  ...   \n",
              "4                                             1           1  ...   \n",
              "...                                         ...         ...  ...   \n",
              "3556                                          1           0  ...   \n",
              "3557                                          1           0  ...   \n",
              "3558                                          1           0  ...   \n",
              "3559                                          1           1  ...   \n",
              "3560                                          1           1  ...   \n",
              "\n",
              "      Estado IMC_sobrepeso  \\\n",
              "0                        0   \n",
              "1                        0   \n",
              "2                        0   \n",
              "3                        0   \n",
              "4                        0   \n",
              "...                    ...   \n",
              "3556                     0   \n",
              "3557                     0   \n",
              "3558                     0   \n",
              "3559                     0   \n",
              "3560                     0   \n",
              "\n",
              "      ¿En el sistema general de seguridad social en salud usted es?_AFILIADO REGIMEN ESPECIAL   \\\n",
              "0                                                     0                                          \n",
              "1                                                     0                                          \n",
              "2                                                     0                                          \n",
              "3                                                     0                                          \n",
              "4                                                     0                                          \n",
              "...                                                 ...                                          \n",
              "3556                                                  0                                          \n",
              "3557                                                  0                                          \n",
              "3558                                                  0                                          \n",
              "3559                                                  0                                          \n",
              "3560                                                  0                                          \n",
              "\n",
              "      ¿En el sistema general de seguridad social en salud usted es?_AFILIADO REGIMEN SUBSIDIADO  \\\n",
              "0                                                     1                                           \n",
              "1                                                     0                                           \n",
              "2                                                     0                                           \n",
              "3                                                     0                                           \n",
              "4                                                     0                                           \n",
              "...                                                 ...                                           \n",
              "3556                                                  0                                           \n",
              "3557                                                  0                                           \n",
              "3558                                                  0                                           \n",
              "3559                                                  0                                           \n",
              "3560                                                  0                                           \n",
              "\n",
              "      ¿En el sistema general de seguridad social en salud usted es?_NO AFILIADO(A)  \\\n",
              "0                                                     0                              \n",
              "1                                                     1                              \n",
              "2                                                     1                              \n",
              "3                                                     1                              \n",
              "4                                                     1                              \n",
              "...                                                 ...                              \n",
              "3556                                                  1                              \n",
              "3557                                                  1                              \n",
              "3558                                                  1                              \n",
              "3559                                                  1                              \n",
              "3560                                                  1                              \n",
              "\n",
              "      ¿El beneficiario cuenta con el carnet de vacunación?_S  \\\n",
              "0                                                     1        \n",
              "1                                                     1        \n",
              "2                                                     1        \n",
              "3                                                     1        \n",
              "4                                                     1        \n",
              "...                                                 ...        \n",
              "3556                                                  1        \n",
              "3557                                                  1        \n",
              "3558                                                  0        \n",
              "3559                                                  1        \n",
              "3560                                                  1        \n",
              "\n",
              "      ¿El carnet de vacunación se encuentra al día en las vacunas y dosis que corresponden a la edad del niño o niña?_SI  \\\n",
              "0                                                     1                                                                    \n",
              "1                                                     0                                                                    \n",
              "2                                                     1                                                                    \n",
              "3                                                     1                                                                    \n",
              "4                                                     1                                                                    \n",
              "...                                                 ...                                                                    \n",
              "3556                                                  1                                                                    \n",
              "3557                                                  1                                                                    \n",
              "3558                                                  0                                                                    \n",
              "3559                                                  1                                                                    \n",
              "3560                                                  1                                                                    \n",
              "\n",
              "      El beneficiario cuenta con Carnet de Crecimiento y Desarrollo_SI  \\\n",
              "0                                                     1                  \n",
              "1                                                     0                  \n",
              "2                                                     1                  \n",
              "3                                                     1                  \n",
              "4                                                     0                  \n",
              "...                                                 ...                  \n",
              "3556                                                  1                  \n",
              "3557                                                  1                  \n",
              "3558                                                  0                  \n",
              "3559                                                  1                  \n",
              "3560                                                  1                  \n",
              "\n",
              "      Estado_VINCULADO  Talla inferior última toma_SI  Clases  \n",
              "0                    1                              0       1  \n",
              "1                    1                              0       1  \n",
              "2                    1                              0       0  \n",
              "3                    1                              0       0  \n",
              "4                    1                              0       1  \n",
              "...                ...                            ...     ...  \n",
              "3556                 1                              0       0  \n",
              "3557                 1                              0       0  \n",
              "3558                 0                              0       1  \n",
              "3559                 1                              0       0  \n",
              "3560                 1                              0       0  \n",
              "\n",
              "[3561 rows x 46 columns]"
            ]
          },
          "metadata": {},
          "output_type": "display_data"
        }
      ],
      "source": [
        "display(dDum)"
      ]
    },
    {
      "cell_type": "markdown",
      "metadata": {
        "id": "iT6P0TsHhunN"
      },
      "source": [
        "##Exportando el dataset con clases"
      ]
    },
    {
      "cell_type": "code",
      "execution_count": null,
      "metadata": {
        "colab": {
          "background_save": true
        },
        "id": "DTkeawGkd4IQ",
        "outputId": "7a45973d-6e1d-42e5-c756-632cd18eea38"
      },
      "outputs": [
        {
          "ename": "SyntaxError",
          "evalue": "ignored",
          "output_type": "error",
          "traceback": [
            "\u001b[0;36m  File \u001b[0;32m\"<ipython-input-85-02f38b44a836>\"\u001b[0;36m, line \u001b[0;32m1\u001b[0m\n\u001b[0;31m    dDum.to_csv(riz\u001b[0m\n\u001b[0m                   ^\u001b[0m\n\u001b[0;31mSyntaxError\u001b[0m\u001b[0;31m:\u001b[0m unexpected EOF while parsing\n"
          ]
        }
      ],
      "source": [
        "dDum.to_csv(\"Dataset_With_Classes.csv\", sep=';')"
      ]
    }
  ],
  "metadata": {
    "colab": {
      "collapsed_sections": [
        "VONwKUFw5s1n",
        "jonVLaaQ8uhc",
        "1v4S24Iw-rS0",
        "rBblIxThAw1J",
        "evg8dE14FLhI"
      ],
      "name": "Monografía ICBF Clustering",
      "provenance": []
    },
    "kernelspec": {
      "display_name": "Python 3",
      "name": "python3"
    },
    "language_info": {
      "name": "python"
    }
  },
  "nbformat": 4,
  "nbformat_minor": 0
}